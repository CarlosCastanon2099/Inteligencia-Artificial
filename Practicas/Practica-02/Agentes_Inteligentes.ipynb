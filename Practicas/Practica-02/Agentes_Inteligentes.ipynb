{
  "nbformat": 4,
  "nbformat_minor": 0,
  "metadata": {
    "colab": {
      "provenance": []
    },
    "kernelspec": {
      "name": "python3",
      "display_name": "Python 3"
    },
    "language_info": {
      "name": "python"
    }
  },
  "cells": [
    {
      "cell_type": "markdown",
      "source": [
        "# Práctica 02: Laberinto"
      ],
      "metadata": {
        "id": "VE6dZbwxVD7d"
      }
    },
    {
      "cell_type": "markdown",
      "source": [
        "El laberinto está representado en una matriz, donde:\n",
        "* 0 es un espacio libre\n",
        "* 1 es un obstáculo\n",
        "* E es la entrada del laberinto\n",
        "* S es la salida del laberinto"
      ],
      "metadata": {
        "id": "5s3Mf3pEK2Pn"
      }
    },
    {
      "cell_type": "code",
      "source": [
        "# Representación del laberinto\n",
        "laberinto = [\n",
        "    [\"E\", 0, 1, 0],\n",
        "    [1, 0, 1, 0],\n",
        "    [0, 0, 0, 0],\n",
        "    [1, 1, 0, \"S\"]\n",
        "]"
      ],
      "metadata": {
        "id": "163zKxkjV5-e"
      },
      "execution_count": null,
      "outputs": []
    },
    {
      "cell_type": "markdown",
      "source": [
        "Definimos una clase agente"
      ],
      "metadata": {
        "id": "cJXthb_6WBMl"
      }
    },
    {
      "cell_type": "code",
      "source": [
        "class Agente:\n",
        "    def __init__(self, posicion):\n",
        "        self.posicion = posicion  # La posición inicial del agente\n",
        "\n",
        "    def mover(self, direccion, laberinto):\n",
        "        x, y = self.posicion\n",
        "        if direccion == \"arriba\" and x > 0:\n",
        "            self.posicion = [x-1, y]\n",
        "        elif direccion == \"abajo\" and x < len(laberinto) - 1:\n",
        "            self.posicion = [x+1, y]\n",
        "        elif direccion == \"izquierda\" and y > 0:\n",
        "            self.posicion = [x, y-1]\n",
        "        elif direccion == \"derecha\" and y < len(laberinto[0]) - 1:\n",
        "            self.posicion = [x, y+1]\n",
        "        else:\n",
        "            print(\"El movimiento no es válido D:\")\n"
      ],
      "metadata": {
        "id": "HkxXIpQLV_BN"
      },
      "execution_count": null,
      "outputs": []
    },
    {
      "cell_type": "markdown",
      "source": [
        "Creamos una instancia del agente en la entrada del laberinto (que es la (0,0), pero puede cambiar)"
      ],
      "metadata": {
        "id": "nmXZY-fTXan1"
      }
    },
    {
      "cell_type": "code",
      "source": [
        "agente = Agente([0,0])"
      ],
      "metadata": {
        "id": "_ICKl7DjV_El"
      },
      "execution_count": null,
      "outputs": []
    },
    {
      "cell_type": "markdown",
      "source": [
        "Ahora, creamos una función para encontrar la salida usando el agente"
      ],
      "metadata": {
        "id": "vB1j21beXqit"
      }
    },
    {
      "cell_type": "code",
      "source": [
        "def encontrar_salida(agente, laberinto):\n",
        "    movimientos = [\"derecha\", \"abajo\", \"abajo\", \"derecha\", \"abajo\", \"derecha\"]\n",
        "\n",
        "    for movimiento in movimientos:\n",
        "        agente.mover(movimiento, laberinto)\n",
        "\n",
        "        print(f\"Movimiento: {movimiento}, Posición: {agente.posicion}\")\n",
        "\n",
        "        if laberinto[agente.posicion[0]][agente.posicion[1]] == \"S\":\n",
        "            print(\"Encontré la salida :D\")\n",
        "            return\n",
        "\n",
        "    print(\"iiiiii no encontré la salida\")"
      ],
      "metadata": {
        "id": "jY57_n9FV_LN"
      },
      "execution_count": null,
      "outputs": []
    },
    {
      "cell_type": "markdown",
      "source": [
        "Ponemos a prueba la solución:"
      ],
      "metadata": {
        "id": "_Efm0U7FZbLN"
      }
    },
    {
      "cell_type": "code",
      "source": [
        "encontrar_salida(agente, laberinto)"
      ],
      "metadata": {
        "colab": {
          "base_uri": "https://localhost:8080/"
        },
        "id": "5ERTaVyPZa9O",
        "outputId": "993e7a95-22be-4757-ffc2-c7529e287bc0"
      },
      "execution_count": null,
      "outputs": [
        {
          "output_type": "stream",
          "name": "stdout",
          "text": [
            "Movimiento: derecha, Posición: [0, 1]\n",
            "Movimiento: abajo, Posición: [1, 1]\n",
            "Movimiento: abajo, Posición: [2, 1]\n",
            "Movimiento: derecha, Posición: [2, 2]\n",
            "Movimiento: abajo, Posición: [3, 2]\n",
            "Movimiento: derecha, Posición: [3, 3]\n",
            "Encontré la salida :D\n"
          ]
        }
      ]
    }
  ]
}