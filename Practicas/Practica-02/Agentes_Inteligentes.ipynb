{
  "cells": [
    {
      "cell_type": "markdown",
      "metadata": {
        "id": "VE6dZbwxVD7d"
      },
      "source": [
        "# Práctica 02: Laberinto\n",
        "\n",
        "----"
      ]
    },
    {
      "cell_type": "markdown",
      "metadata": {},
      "source": [
        "<b>Team:</b> <font color='red'>S</font><b>ocios</b> <font color='blue'>I</font><b>nteligentemente</b> <font color='green'>A</font><b>rtificiales</b> (<font color='red'>S</font>.<font color='blue'>I</font>.<font color='green'>A</font>)\n",
        "\n",
        "\n",
        "<font color='red'>✪</font> Bonilla Reyes Dafne\n",
        "\n",
        "<font color='red'>✪</font> Castañón Maldonado Carlos Emilio\n",
        "\n",
        "<font color='red'>✪</font> Mares Cruz Tlacaelel Horacio\n",
        "\n",
        "<font color='red'>✪</font> Maya Castrejón Luis Manuel\n",
        "\n",
        "<font color='red'>✪</font> Navarro Santana Pablo César\n",
        "\n",
        "\n",
        "\n",
        "----"
      ]
    },
    {
      "cell_type": "markdown",
      "metadata": {
        "id": "cJXthb_6WBMl"
      },
      "source": [
        "**Definimos la clase agente**"
      ]
    },
    {
      "cell_type": "code",
      "execution_count": 1043,
      "metadata": {
        "id": "HkxXIpQLV_BN"
      },
      "outputs": [],
      "source": [
        "class Agente:\n",
        "    def __init__(self, posicion):\n",
        "        self.posicion = posicion  # La posición inicial del agente\n",
        "\n",
        "    def mover(self, direccion, laberinto):\n",
        "        x, y = self.posicion\n",
        "        if direccion == \"arriba\" and x > 0 and laberinto[x-1][y] != 1: # Mueve el agente arriba si no es límite superior y la celda destino no es un obstáculo.       \n",
        "            self.posicion = [x-1, y]\n",
        "\n",
        "        elif direccion == \"abajo\" and x < len(laberinto) - 1 and laberinto[x+1][y] != 1: # Mueve el agente abajo si no es límite inferior y la celda destino no es un obstáculo.     \n",
        "            self.posicion = [x+1, y]\n",
        "\n",
        "        elif direccion == \"izquierda\" and y > 0 and laberinto[x][y-1] != 1:# Mueve el agente izquierda si no es límite izquierdo y la celda destino no es un obstáculo.   \n",
        "            self.posicion = [x, y-1]\n",
        "\n",
        "        elif direccion == \"derecha\" and y < len(laberinto[0]) - 1 and laberinto[x][y+1] != 1:# Mueve el agente derecha si no es límite derecho y la celda destino no es un obstáculo. \n",
        "            self.posicion = [x, y+1]\n",
        "            \n",
        "        else:\n",
        "            return None  # Devolver None si el movimiento no es válido\n",
        "        \n",
        "        return self.posicion\n"
      ]
    },
    {
      "cell_type": "markdown",
      "metadata": {
        "id": "vB1j21beXqit"
      },
      "source": [
        "### Algoritmo de Trémaux\n",
        "\n",
        "El algoritmo de Trémaux es un algoritmo. Inventado por el ingeniero francés Charles Trémaux, para hallar la salida de un laberinto.\n",
        "\n",
        "Lo primero que hay que hacer es marcar el camino que se va siguiendo, y seguir estos pasos:\n",
        "\n",
        "1. No siga el mismo camino dos veces.\n",
        "2. Si llega a un cruce nuevo, no importa qué camino siga.\n",
        "3. Si un camino nuevo lo lleva a un cruce viejo, o a un callejón sin salida, retroceda hasta la entrada del camino.\n",
        "4. Si un camino viejo lo lleva a un cruce viejo, tome un camino nuevo, y si no lo hay, tome cualquiera.\n",
        "\n",
        "[![](https://upload.wikimedia.org/wikipedia/commons/e/e4/Tremaux%27_Methode_-_animiertes_Beispiel.gif)]()\n",
        "\n",
        "**Fuente:**  [Algoritmo de Trémaux](https://es.wikipedia.org/wiki/Algoritmo_de_Tr%C3%A9maux#:~:text=El%20algoritmo%20de%20Tremaux%20es,el%20mismo%20camino%20dos%20veces).\n",
        "\n",
        "Debido a que el algoritmo es uno especializado en laberintos (y su fundamento es el backtracking), decidimos implementarlo (y modificarlo en algunas partes) para resolver nuestro problema del laberinto usando backtracking.\n",
        "\n",
        "\n"
      ]
    },
    {
      "cell_type": "code",
      "execution_count": 1044,
      "metadata": {},
      "outputs": [],
      "source": [
        "def flechas(direccion):\n",
        "    if direccion == \"arriba\":\n",
        "        return  \"↑\"\n",
        "    elif direccion == \"abajo\":\n",
        "        return  \"↓\"\n",
        "    elif direccion == \"izquierda\":\n",
        "        return  \"←\"\n",
        "    elif direccion == \"derecha\":\n",
        "        return  \"→\"\n",
        "    \n",
        "\n",
        "\n",
        "\n",
        "'''\n",
        "Ejemplo:\n",
        "Movimiento: derecha, Posición: [0, 1]\n",
        "Movimiento: abajo, Posición: [1, 1]\n",
        "Movimiento: abajo, Posición: [2, 1]\n",
        "Movimiento: derecha, Posición: [2, 2]\n",
        "Movimiento: abajo, Posición: [3, 2]\n",
        "Movimiento: derecha, Posición: [3, 3]\n",
        "Encontré la salida :D\n",
        "'''\n",
        "def backtrack_tremaux(agente, laberinto, visitados = None, instrucciones = []):\n",
        "    if not instrucciones :\n",
        "        instrucciones.append(\"Primer movimiento!\\t Posición: [0, 0]\")\n",
        "    if visitados is None:\n",
        "        visitados = set()\n",
        "\n",
        "    x, y = agente.posicion\n",
        "\n",
        "    if laberinto[x][y] == \"S\":  # Si el agente encuentra la salida, imprime el camino y retorna True\n",
        "        for i in instrucciones:\n",
        "            print(i)\n",
        "        print(\"Encontré la salida :D\\n\")\n",
        "        return True\n",
        "    else:\n",
        "        visitados.add((x, y))  # Marcar la celda actual como visitada\n",
        "        movimientos = [\"arriba\", \"abajo\", \"izquierda\", \"derecha\"]\n",
        "\n",
        "        for movimiento in movimientos:\n",
        "            agente_temp = Agente(agente.posicion[:])  # Crear una copia del agente para simular movimientos\n",
        "            nueva_posicion = agente_temp.mover(movimiento, laberinto)\n",
        "\n",
        "            if nueva_posicion and tuple(nueva_posicion) not in visitados:  # Verificar si el movimiento es válido y Si la nueva posición no ha sido visitada\n",
        "\n",
        "                instrucciones.append(f\"Movimiento: {movimiento}\\t Posición: {nueva_posicion}\")\n",
        "                if backtrack_tremaux(Agente(nueva_posicion), laberinto, visitados):\n",
        "                    laberinto[agente.posicion[0]][agente.posicion[1]] = flechas(movimiento)\n",
        "                    return True\n",
        "                else:\n",
        "                    laberinto[agente.posicion[0]][agente.posicion[1]] = '0'\n",
        "                    instrucciones.pop()\n",
        "                    \n",
        "        return False\n"
      ]
    },
    {
      "cell_type": "markdown",
      "metadata": {},
      "source": [
        "### El laberinto\n",
        "Aqui definimos el laberinto que usarémos para nuestro algoritmo."
      ]
    },
    {
      "cell_type": "code",
      "execution_count": 1045,
      "metadata": {},
      "outputs": [],
      "source": [
        "# Representación del laberinto\n",
        "laberinto = [\n",
        "    [\"E\",  0,  0,    0,    0  ],\n",
        "    [ 1,   0,  1,    1,    0  ],\n",
        "    [ 0,   0,  0,    0,    0  ],\n",
        "    [ 0,   1,  0,    1,    0  ],\n",
        "    [ 0,   0,  0,    1,   \"S\"]\n",
        "]"
      ]
    },
    {
      "cell_type": "markdown",
      "metadata": {},
      "source": [
        "### El Agente\n",
        "Creamos una instancia del agente en la entrada del laberinto (que es la (0,0), pero puede cambiar)"
      ]
    },
    {
      "cell_type": "code",
      "execution_count": 1046,
      "metadata": {},
      "outputs": [],
      "source": [
        "agente = Agente([0,0])"
      ]
    },
    {
      "cell_type": "markdown",
      "metadata": {},
      "source": [
        "### Llamada a nuestro algoritmo\n",
        "\n",
        "Finalmente, llamamos a nuestro algoritmo para que se ejecute y nos muestre si encontró la salida o no."
      ]
    },
    {
      "cell_type": "code",
      "execution_count": 1047,
      "metadata": {},
      "outputs": [
        {
          "name": "stdout",
          "output_type": "stream",
          "text": [
            "Primer movimiento!\t Posición: [0, 0]\n",
            "Movimiento: derecha\t Posición: [0, 1]\n",
            "Movimiento: abajo\t Posición: [1, 1]\n",
            "Movimiento: abajo\t Posición: [2, 1]\n",
            "Movimiento: izquierda\t Posición: [2, 0]\n",
            "Movimiento: abajo\t Posición: [3, 0]\n",
            "Movimiento: abajo\t Posición: [4, 0]\n",
            "Movimiento: derecha\t Posición: [4, 1]\n",
            "Movimiento: derecha\t Posición: [4, 2]\n",
            "Movimiento: arriba\t Posición: [3, 2]\n",
            "Movimiento: arriba\t Posición: [2, 2]\n",
            "Movimiento: derecha\t Posición: [2, 3]\n",
            "Movimiento: derecha\t Posición: [2, 4]\n",
            "Movimiento: abajo\t Posición: [3, 4]\n",
            "Movimiento: abajo\t Posición: [4, 4]\n",
            "Encontré la salida :D\n",
            "\n"
          ]
        }
      ],
      "source": [
        "algoritmoBRUTAL = backtrack_tremaux(agente, laberinto)"
      ]
    },
    {
      "cell_type": "code",
      "execution_count": 1048,
      "metadata": {},
      "outputs": [
        {
          "name": "stdout",
          "output_type": "stream",
          "text": [
            "Representacion grafica de los pasos seguidos por el agente para la solucion final: \n",
            "\n",
            "■ = Obstaculos (los 1's)\n",
            "0 = Celda Libre\n",
            "S = Salida\n",
            "\n",
            "[ → ↓ 0 0 0 ]\n",
            "[ ■ ↓ ■ ■ 0 ]\n",
            "[ ↓ ← → → ↓ ]\n",
            "[ ↓ ■ ↑ ■ ↓ ]\n",
            "[ → → ↑ ■ S ]\n"
          ]
        }
      ],
      "source": [
        "print(\"Representacion grafica de los pasos seguidos por el agente para la solucion final: \\n\")\n",
        "print(\"■ = Obstaculos (los 1's)\")\n",
        "print(\"0 = Celda Libre\")\n",
        "print(\"S = Salida\\n\")\n",
        "\n",
        "for lab in laberinto:\n",
        "    print('[', end='')\n",
        "    for path in lab:\n",
        "        if path == 1:\n",
        "            path = '■'\n",
        "        if path == 0:\n",
        "            path == '░'\n",
        "        print(f\" {path}\", end='')\n",
        "    print(\" ]\")"
      ]
    }
  ],
  "metadata": {
    "colab": {
      "provenance": []
    },
    "kernelspec": {
      "display_name": "Python 3",
      "name": "python3"
    },
    "language_info": {
      "codemirror_mode": {
        "name": "ipython",
        "version": 3
      },
      "file_extension": ".py",
      "mimetype": "text/x-python",
      "name": "python",
      "nbconvert_exporter": "python",
      "pygments_lexer": "ipython3",
      "version": "3.11.4"
    }
  },
  "nbformat": 4,
  "nbformat_minor": 0
}
