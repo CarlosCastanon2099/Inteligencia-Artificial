{
  "cells": [
    {
      "cell_type": "markdown",
      "metadata": {
        "id": "VE6dZbwxVD7d"
      },
      "source": [
        "# Práctica 02: Laberinto"
      ]
    },
    {
      "cell_type": "markdown",
      "metadata": {},
      "source": [
        "Equipo: Socios Inteligentemente Artificiales  (S.I.A)\n",
        "- Bonilla Reyes Dafne\n",
        "- Castañón Maldonado Carlos Emilio\n",
        "- Mares Cruz Tlacaelel Horacio\n",
        "- Maya Castrejón Luis Manuel\n",
        "- Navarro Santana Pablo César"
      ]
    },
    {
      "cell_type": "markdown",
      "metadata": {
        "id": "5s3Mf3pEK2Pn"
      },
      "source": [
        " "
      ]
    },
    {
      "cell_type": "markdown",
      "metadata": {
        "id": "cJXthb_6WBMl"
      },
      "source": [
        "Definimos una clase agente"
      ]
    },
    {
      "cell_type": "code",
      "execution_count": 83,
      "metadata": {
        "id": "HkxXIpQLV_BN"
      },
      "outputs": [],
      "source": [
        "class Agente:\n",
        "    def __init__(self, posicion):\n",
        "        self.posicion = posicion  # La posición inicial del agente\n",
        "\n",
        "    def mover(self, direccion, laberinto):\n",
        "        x, y = self.posicion\n",
        "        if direccion == \"arriba\" and x > 0 and laberinto[x-1][y] != 1:\n",
        "            self.posicion = [x-1, y]\n",
        "        elif direccion == \"abajo\" and x < len(laberinto) - 1 and laberinto[x+1][y] != 1:\n",
        "            self.posicion = [x+1, y]\n",
        "        elif direccion == \"izquierda\" and y > 0 and laberinto[x][y-1] != 1:\n",
        "            self.posicion = [x, y-1]\n",
        "        elif direccion == \"derecha\" and y < len(laberinto[0]) - 1 and laberinto[x][y+1] != 1:\n",
        "            self.posicion = [x, y+1]\n",
        "        else:\n",
        "            return None  # Devolver None si el movimiento no es válido\n",
        "        \n",
        "        return self.posicion\n"
      ]
    },
    {
      "cell_type": "markdown",
      "metadata": {
        "id": "vB1j21beXqit"
      },
      "source": [
        "Ahora, creamos una función para encontrar la salida usando el agente"
      ]
    },
    {
      "cell_type": "code",
      "execution_count": 84,
      "metadata": {},
      "outputs": [],
      "source": [
        "# Algoritmo de back tracking para encontrar la salida del laberinto\n",
        "# El algoritmo va imprimiendo el historia de movimientos del agente\n",
        "# dede que inicia hasta que encuentra la salida \n",
        "'''\n",
        "Ejemplo:\n",
        "Movimiento: derecha, Posición: [0, 1]\n",
        "Movimiento: abajo, Posición: [1, 1]\n",
        "Movimiento: abajo, Posición: [2, 1]\n",
        "Movimiento: derecha, Posición: [2, 2]\n",
        "Movimiento: abajo, Posición: [3, 2]\n",
        "Movimiento: derecha, Posición: [3, 3]\n",
        "Encontré la salida :D\n",
        "'''\n",
        "def backtrack_tremaux(agente, laberinto, visitados=None):\n",
        "    if visitados is None:\n",
        "        visitados = set()\n",
        "\n",
        "    x, y = agente.posicion\n",
        "\n",
        "    if laberinto[x][y] == \"S\":  # Si el agente encuentra la salida, imprime el camino y retorna True\n",
        "        print(\"Encontré la salida :D\")\n",
        "        return True\n",
        "    else:\n",
        "        visitados.add((x, y))  # Marcar la celda actual como visitada\n",
        "        movimientos = [\"arriba\", \"abajo\", \"izquierda\", \"derecha\"]\n",
        "        for movimiento in movimientos:\n",
        "            agente_temp = Agente(agente.posicion[:])  # Crear una copia del agente para simular movimientos\n",
        "            nueva_posicion = agente_temp.mover(movimiento, laberinto)\n",
        "            if nueva_posicion is not None:  # Verificar si el movimiento es válido\n",
        "                if tuple(nueva_posicion) not in visitados:  # Si la nueva posición no ha sido visitada\n",
        "                    print(f\"Movimiento: {movimiento}, Posición: {nueva_posicion}\")\n",
        "                    if backtrack_tremaux(Agente(nueva_posicion), laberinto, visitados):\n",
        "                        return True\n",
        "        print(\"Backtrack!\")\n",
        "        return False\n"
      ]
    },
    {
      "cell_type": "markdown",
      "metadata": {},
      "source": [
        "**El laberinto**"
      ]
    },
    {
      "cell_type": "code",
      "execution_count": 85,
      "metadata": {},
      "outputs": [],
      "source": [
        "# Representación del laberinto\n",
        "laberinto = [\n",
        "    [\"E\",  0,  0,    0,    0  ],\n",
        "    [ 1,   0,  1,    1,    0  ],\n",
        "    [ 0,   0,  0,    1,    0  ],\n",
        "    [ 0,   1,  0,    1,    0  ],\n",
        "    [ 0,   0,  0,    1,   \"S\"]\n",
        "]"
      ]
    },
    {
      "cell_type": "markdown",
      "metadata": {},
      "source": [
        "Creamos una instancia del agente en la entrada del laberinto (que es la (0,0), pero puede cambiar)"
      ]
    },
    {
      "cell_type": "code",
      "execution_count": 86,
      "metadata": {},
      "outputs": [],
      "source": [
        "agente = Agente([0,0])"
      ]
    },
    {
      "cell_type": "code",
      "execution_count": 87,
      "metadata": {},
      "outputs": [
        {
          "name": "stdout",
          "output_type": "stream",
          "text": [
            "Movimiento: derecha, Posición: [0, 1]\n",
            "Movimiento: abajo, Posición: [1, 1]\n",
            "Movimiento: abajo, Posición: [2, 1]\n",
            "Movimiento: izquierda, Posición: [2, 0]\n",
            "Movimiento: abajo, Posición: [3, 0]\n",
            "Movimiento: abajo, Posición: [4, 0]\n",
            "Movimiento: derecha, Posición: [4, 1]\n",
            "Movimiento: derecha, Posición: [4, 2]\n",
            "Movimiento: arriba, Posición: [3, 2]\n",
            "Movimiento: arriba, Posición: [2, 2]\n",
            "Backtrack!\n",
            "Backtrack!\n",
            "Backtrack!\n",
            "Backtrack!\n",
            "Backtrack!\n",
            "Backtrack!\n",
            "Backtrack!\n",
            "Backtrack!\n",
            "Backtrack!\n",
            "Movimiento: derecha, Posición: [0, 2]\n",
            "Movimiento: derecha, Posición: [0, 3]\n",
            "Movimiento: derecha, Posición: [0, 4]\n",
            "Movimiento: abajo, Posición: [1, 4]\n",
            "Movimiento: abajo, Posición: [2, 4]\n",
            "Movimiento: abajo, Posición: [3, 4]\n",
            "Movimiento: abajo, Posición: [4, 4]\n",
            "Encontré la salida :D\n"
          ]
        },
        {
          "data": {
            "text/plain": [
              "True"
            ]
          },
          "execution_count": 87,
          "metadata": {},
          "output_type": "execute_result"
        }
      ],
      "source": [
        "backtrack_tremaux(agente, laberinto)"
      ]
    },
    {
      "cell_type": "markdown",
      "metadata": {},
      "source": []
    },
    {
      "cell_type": "code",
      "execution_count": 88,
      "metadata": {
        "id": "jY57_n9FV_LN"
      },
      "outputs": [],
      "source": [
        "def encontrar_salida(agente, laberinto):\n",
        "    movimientos = [\"derecha\", \"abajo\", \"abajo\", \"derecha\", \"abajo\", \"derecha\"]\n",
        "\n",
        "    for movimiento in movimientos:\n",
        "        agente.mover(movimiento, laberinto)\n",
        "\n",
        "        print(f\"Movimiento: {movimiento}, Posición: {agente.posicion}\")\n",
        "\n",
        "        if laberinto[agente.posicion[0]][agente.posicion[1]] == \"S\":\n",
        "            print(\"Encontré la salida :D\")\n",
        "            return\n",
        "\n",
        "    print(\"pipipipipi no encontré la salida\")"
      ]
    },
    {
      "cell_type": "markdown",
      "metadata": {
        "id": "_Efm0U7FZbLN"
      },
      "source": [
        "Ponemos a prueba la solución:"
      ]
    },
    {
      "cell_type": "code",
      "execution_count": 89,
      "metadata": {
        "colab": {
          "base_uri": "https://localhost:8080/"
        },
        "id": "5ERTaVyPZa9O",
        "outputId": "993e7a95-22be-4757-ffc2-c7529e287bc0"
      },
      "outputs": [
        {
          "name": "stdout",
          "output_type": "stream",
          "text": [
            "Movimiento: derecha, Posición: [0, 1]\n",
            "Movimiento: abajo, Posición: [1, 1]\n",
            "Movimiento: abajo, Posición: [2, 1]\n",
            "Movimiento: derecha, Posición: [2, 2]\n",
            "Movimiento: abajo, Posición: [3, 2]\n",
            "Movimiento: derecha, Posición: [3, 2]\n",
            "pipipipipi no encontré la salida\n"
          ]
        }
      ],
      "source": [
        "encontrar_salida(agente, laberinto)"
      ]
    }
  ],
  "metadata": {
    "colab": {
      "provenance": []
    },
    "kernelspec": {
      "display_name": "Python 3",
      "name": "python3"
    },
    "language_info": {
      "codemirror_mode": {
        "name": "ipython",
        "version": 3
      },
      "file_extension": ".py",
      "mimetype": "text/x-python",
      "name": "python",
      "nbconvert_exporter": "python",
      "pygments_lexer": "ipython3",
      "version": "3.11.4"
    }
  },
  "nbformat": 4,
  "nbformat_minor": 0
}
