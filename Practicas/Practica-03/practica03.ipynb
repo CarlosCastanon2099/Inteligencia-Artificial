{
  "cells": [
    {
      "cell_type": "markdown",
      "metadata": {
        "id": "VE6dZbwxVD7d"
      },
      "source": [
        "# 🌳 Práctica 03: Exploradores de laberinto 🏟️\n",
        "\n",
        "----"
      ]
    },
    {
      "cell_type": "markdown",
      "metadata": {},
      "source": [
        "<b>Team:</b> <font color='red'>S</font><b>ocios</b> <font color='blue'>I</font><b>nteligentemente</b> <font color='green'>A</font><b>rtificiales</b> (<font color='red'>S</font>.<font color='blue'>I</font>.<font color='green'>A</font>)\n",
        "\n",
        "\n",
        "<font color='red'>✪</font> Bonilla Reyes Dafne\n",
        "\n",
        "<font color='red'>✪</font> Castañón Maldonado Carlos Emilio\n",
        "\n",
        "<font color='red'>✪</font> Mares Cruz Tlacaelel Horacio\n",
        "\n",
        "<font color='red'>✪</font> Maya Castrejón Luis Manuel\n",
        "\n",
        "<font color='red'>✪</font> Navarro Santana Pablo César\n",
        "\n",
        "\n",
        "\n",
        "----"
      ]
    },
    {
      "cell_type": "markdown",
      "metadata": {},
      "source": [
        "[![](https://media.giphy.com/media/v1.Y2lkPTc5MGI3NjExendwNm0xdzcxZnV2Ym56cXRlOXlldDdyOTRwMmpmNnlsam0zMXdtaCZlcD12MV9pbnRlcm5hbF9naWZfYnlfaWQmY3Q9Zw/DdmrOg4Z4tndBRAtM3/giphy-downsized.gif)](https://www.youtube.com/watch?v=YRvOePz2OqQ)"
      ]
    },
    {
      "cell_type": "markdown",
      "metadata": {
        "id": "cJXthb_6WBMl"
      },
      "source": [
        "### **Definimos la clase agente**"
      ]
    },
    {
      "cell_type": "markdown",
      "metadata": {},
      "source": [
        "El agente tiene que explorar el laberinto y encontrar la salida. Al crearlo, solo le damos su posición inicial en el laberinto, como si estuviera parado en la entrada, mirando hacia adentro, preguntándose qué le depara el destino.\n",
        "\n",
        "Tiene que moverse pero no puede simplemente moverse como sea debe evitar obstáculos. Le decimos en qué dirección ir (\"arriba\", \"abajo\", \"izquierda\", \"derecha\"), y él verifica si el camino está libre. Si encuentra un muro (un obstáculo representado por un 1), sabe que debe detenerse y pensar en otro camino."
      ]
    },
    {
      "cell_type": "code",
      "execution_count": 1,
      "metadata": {
        "id": "HkxXIpQLV_BN"
      },
      "outputs": [],
      "source": [
        "class Agente:\n",
        "    def __init__(self, posicion):\n",
        "        \"\"\"\n",
        "        Inicializa un objeto Agente con una posición dada.\n",
        "\n",
        "        Args:\n",
        "            posicion (list): La posición inicial del agente en forma de lista [x, y].\n",
        "        \"\"\"\n",
        "        self.posicion = posicion\n",
        "\n",
        "    def mover(self, direccion, laberinto):\n",
        "        \"\"\"\n",
        "        Mueve el agente en la dirección especificada si es un movimiento válido.\n",
        "\n",
        "        Args:\n",
        "            direccion (str): La dirección en la que se desea mover el agente (\"arriba\", \"abajo\", \"izquierda\", \"derecha\").\n",
        "            laberinto (list): El laberinto en forma de matriz.\n",
        "\n",
        "        Returns:\n",
        "            list or None: La nueva posición del agente si el movimiento es válido, None en caso contrario.\n",
        "        \"\"\"\n",
        "        x, y = self.posicion\n",
        "        # Mueve el agente arriba si no es límite superior, y donde la celda destino no es un obstáculo.\n",
        "        if direccion == \"arriba\" and x > 0 and laberinto[x-1][y] != 1:\n",
        "            self.posicion = [x-1, y]\n",
        "        # Mueve el agente abajo si no es límite inferior, y donde la celda destino no es un obstáculo.\n",
        "        elif direccion == \"abajo\" and x < len(laberinto) - 1 and laberinto[x+1][y] != 1:\n",
        "            self.posicion = [x+1, y]\n",
        "        # Mueve el agente izquierda si no es límite izquierdo, y donde la celda destino no es un obstáculo.\n",
        "        elif direccion == \"izquierda\" and y > 0 and laberinto[x][y-1] != 1:\n",
        "            self.posicion = [x, y-1]\n",
        "        # Mueve el agente derecha si no es límite derecho, y donde la celda destino no es un obstáculo. \n",
        "        elif direccion == \"derecha\" and y < len(laberinto[0]) - 1 and laberinto[x][y+1] != 1:\n",
        "            self.posicion = [x, y+1]\n",
        "        else:\n",
        "            return None\n",
        "        \n",
        "        return self.posicion"
      ]
    },
    {
      "cell_type": "markdown",
      "metadata": {},
      "source": [
        "# Flechas\n",
        "\n",
        "Mientras nuestro agente explora, vamos a dejar un rastro de su viaje. Para eso utilizamos la función flechas. Cada vez que el Agente toma una decisión sobre hacia dónde moverse, convertimos esa dirección en una flecha visual (\"↑\", \"↓\", \"←\", \"→\")."
      ]
    },
    {
      "cell_type": "code",
      "execution_count": 2,
      "metadata": {},
      "outputs": [],
      "source": [
        "'''\n",
        "Funcion que recibe una dirección y retorna la flecha correspondiente a la dirección.\n",
        "'''\n",
        "def flechas(direccion):\n",
        "    \"\"\"\n",
        "    Devuelve una flecha correspondiente a la dirección dada.\n",
        "\n",
        "    Parámetros:\n",
        "    direccion (str): La dirección de la flecha. Puede ser \"arriba\", \"abajo\", \"izquierda\" o \"derecha\".\n",
        "\n",
        "    Retorna:\n",
        "    str: La flecha correspondiente a la dirección dada.\n",
        "    \"\"\"\n",
        "    if direccion == \"arriba\":\n",
        "        return  \"↑\"\n",
        "    elif direccion == \"abajo\":\n",
        "        return  \"↓\"\n",
        "    elif direccion == \"izquierda\":\n",
        "        return  \"←\"\n",
        "    elif direccion == \"derecha\":\n",
        "        return  \"→\""
      ]
    },
    {
      "cell_type": "markdown",
      "metadata": {},
      "source": [
        "# Backtracking \n",
        "\n",
        "Funcion en la que definimos el backtracking que usará el agente para encontrar (o no) la salida del laberinto.\n",
        "\n",
        "Esta funcion regresa solo la solucion final, es decir, el camino que el agente debe seguir para llegar a la salida del laberinto y\n",
        "por ende no regresa todos los posibles caminos usados por el agente.\n",
        "\n",
        "Iniciamos marcando el comienzo de la exploración con el registro del primer movimiento. Para evitar recorrer los mismos caminos, empleamos un conjunto de visitados, y evaluamos cada movimiento en función de su viabilidad y su capacidad para acercarnos a la meta. Al hacer esto el agente encuentra la salida y aprende de cada paso."
      ]
    },
    {
      "cell_type": "code",
      "execution_count": 3,
      "metadata": {},
      "outputs": [],
      "source": [
        "\n",
        "\"\"\"\n",
        "    Realiza una búsqueda en profundidad (backtracking) para encontrar la salida en un laberinto.\n",
        "\n",
        "    Parámetros:\n",
        "    - agente (Agente): El agente que se mueve por el laberinto.\n",
        "    - laberinto (list): El laberinto representado como una matriz.\n",
        "    - visitados (set): Conjunto de celdas visitadas. Por defecto, es None.\n",
        "    - instrucciones (list): Lista de instrucciones para llegar a la salida. Por defecto, es una lista vacía.\n",
        "\n",
        "    Retorna:\n",
        "    - bool: True si se encuentra la salida, False si no se encuentra.\n",
        "\n",
        "\"\"\"\n",
        "def backtrack(agente, laberinto, visitados = None, instrucciones = []):\n",
        "    if not instrucciones :\n",
        "        instrucciones.append(f\"Primer movimiento!\\t Posición: [{agente.posicion[0]}, {agente.posicion[1]}]\")\n",
        "    if visitados is None:\n",
        "        visitados = set()\n",
        "\n",
        "    x, y = agente.posicion\n",
        "\n",
        "    if laberinto[x][y] == \"S\":  # Si el agente encuentra la salida, imprime el camino y retorna True\n",
        "        for i in instrucciones:\n",
        "            print(i)\n",
        "        print(\"Encontré la salida :D\\n\")\n",
        "        return True\n",
        "    else:\n",
        "        visitados.add((x, y))  # Marcar la celda actual como visitada\n",
        "        movimientos = [\"arriba\", \"abajo\", \"izquierda\", \"derecha\"]\n",
        "\n",
        "        for movimiento in movimientos:\n",
        "            agente_temp = Agente(agente.posicion[:])  # Crear una copia del agente para simular movimientos\n",
        "            nueva_posicion = agente_temp.mover(movimiento, laberinto)\n",
        "\n",
        "            if nueva_posicion and tuple(nueva_posicion) not in visitados:  # Verificar si el movimiento es válido y Si la nueva posición no ha sido visitada\n",
        "\n",
        "                instrucciones.append(f\"Movimiento: {movimiento}\\t Posición: {nueva_posicion}\")\n",
        "                if backtrack(Agente(nueva_posicion), laberinto, visitados):\n",
        "                    laberinto[agente.posicion[0]][agente.posicion[1]] = flechas(movimiento)\n",
        "                    return True\n",
        "                else:\n",
        "                    laberinto[agente.posicion[0]][agente.posicion[1]] = 0\n",
        "                    instrucciones.pop()\n",
        "                    \n",
        "        return False\n"
      ]
    },
    {
      "cell_type": "code",
      "execution_count": null,
      "metadata": {},
      "outputs": [],
      "source": [
        "# Correr los siguientes en caso de no tenerlos instalados"
      ]
    },
    {
      "cell_type": "code",
      "execution_count": null,
      "metadata": {},
      "outputs": [],
      "source": [
        "# pip install matplotlib"
      ]
    },
    {
      "cell_type": "code",
      "execution_count": null,
      "metadata": {},
      "outputs": [],
      "source": [
        "# pip install networkx"
      ]
    },
    {
      "cell_type": "code",
      "execution_count": 4,
      "metadata": {},
      "outputs": [],
      "source": [
        "# Importamos las bibliotecas \n",
        "import matplotlib.pyplot as plt\n",
        "import networkx as nx"
      ]
    },
    {
      "cell_type": "code",
      "execution_count": 5,
      "metadata": {},
      "outputs": [],
      "source": [
        "def doxeaLaS(laberinto):\n",
        "    for i in range(len(laberinto)):\n",
        "        for j in range(len(laberinto[0])):\n",
        "            if laberinto[i][j] == \"S\":\n",
        "                return (i,j)\n"
      ]
    },
    {
      "cell_type": "markdown",
      "metadata": {},
      "source": [
        "### DFS\n"
      ]
    },
    {
      "cell_type": "code",
      "execution_count": null,
      "metadata": {},
      "outputs": [],
      "source": []
    },
    {
      "cell_type": "markdown",
      "metadata": {},
      "source": [
        "### BFS\n"
      ]
    },
    {
      "cell_type": "code",
      "execution_count": 6,
      "metadata": {},
      "outputs": [],
      "source": [
        "xAGENTE = 0\n",
        "yAGENTE = 0\n",
        "\n",
        "laberinto = [[]]\n",
        "\n",
        "\n",
        "def dibujar_grafo_laberinto(laberinto):\n",
        "    G = nx.Graph()\n",
        "\n",
        "    filas = len(laberinto)\n",
        "    columnas = len(laberinto[0])\n",
        "\n",
        "    # Crear nodos\n",
        "    for fila in range(filas):\n",
        "        for columna in range(columnas):\n",
        "            # Agregar nodo con su posición como atributo\n",
        "            G.add_node((fila, columna))\n",
        "\n",
        "    # Crear aristas\n",
        "    for fila in range(filas):\n",
        "        for columna in range(columnas):\n",
        "            # Verificar si la celda actual es un pasillo (0 o \"E\" o \"S\")\n",
        "            if laberinto[fila][columna] == 0 or laberinto[fila][columna] == \"E\" or laberinto[fila][columna] == \"S\":\n",
        "                # Agregar aristas a las celdas vecinas que también son pasillos\n",
        "                if fila > 0 and laberinto[fila - 1][columna] == 0:\n",
        "                    G.add_edge((fila, columna), (fila - 1, columna))\n",
        "                if fila < filas - 1 and laberinto[fila + 1][columna] == 0:\n",
        "                    G.add_edge((fila, columna), (fila + 1, columna))\n",
        "                if columna > 0 and laberinto[fila][columna - 1] == 0:\n",
        "                    G.add_edge((fila, columna), (fila, columna - 1))\n",
        "                if columna < columnas - 1 and laberinto[fila][columna + 1] == 0:\n",
        "                    G.add_edge((fila, columna), (fila, columna + 1))\n",
        "\n",
        "    # Dibujar el grafo\n",
        "    pos = {(fila, columna): (columna, -fila) for fila in range(filas) for columna in range(columnas)}\n",
        "    #print(pos)\n",
        "    nx.draw(G, pos, with_labels=True, node_size=700, node_color='cyan', font_size=8, font_weight='bold')\n",
        "    plt.show()\n",
        "\n",
        "\n",
        "def obtener_ruta_mas_corta(inicio, fin, camino):\n",
        "    ruta = [fin]\n",
        "    while ruta[-1] != inicio:\n",
        "        ruta.append(camino[ruta[-1]])\n",
        "    return ruta[::-1]\n",
        "\n",
        "    \n",
        "def BFS(Laberinto):\n",
        "    G = nx.Graph()\n",
        "\n",
        "    # Vertice Inicial (E)\n",
        "    inicio = (xAGENTE, yAGENTE)\n",
        "\n",
        "    # Vertice Final (S)\n",
        "    fin = doxeaLaS(Laberinto)\n",
        "\n",
        "    filas = len(laberinto)\n",
        "    columnas = len(laberinto[0])\n",
        "\n",
        "    # Crear nodos\n",
        "    for fila in range(filas):\n",
        "        for columna in range(columnas):\n",
        "            if laberinto[fila][columna] == \"E\":\n",
        "                inicio = (fila, columna)  # Establecer el vértice inicial\n",
        "            elif laberinto[fila][columna] == \"S\":\n",
        "                fin = (fila, columna)  # Establecer el vértice final\n",
        "            # Agregar nodo con su posición como atributo\n",
        "            G.add_node((fila, columna))\n",
        "\n",
        "    # Crear aristas\n",
        "    for fila in range(filas):\n",
        "        for columna in range(columnas):\n",
        "            # Verificar si la celda actual es un pasillo (0 o \"E\" o \"S\")\n",
        "            if laberinto[fila][columna] == 0 or laberinto[fila][columna] == \"E\" or laberinto[fila][columna] == \"S\":\n",
        "                # Agregar aristas a las celdas vecinas que también son pasillos\n",
        "                if fila > 0 and laberinto[fila - 1][columna] == 0:\n",
        "                    G.add_edge((fila, columna), (fila - 1, columna))\n",
        "                if fila < filas - 1 and laberinto[fila + 1][columna] == 0:\n",
        "                    G.add_edge((fila, columna), (fila + 1, columna))\n",
        "                if columna > 0 and laberinto[fila][columna - 1] == 0:\n",
        "                    G.add_edge((fila, columna), (fila, columna - 1))\n",
        "                if columna < columnas - 1 and laberinto[fila][columna + 1] == 0:\n",
        "                    G.add_edge((fila, columna), (fila, columna + 1))\n",
        "\n",
        "    # Algoritmo BFS\n",
        "    inicioVertice = inicio\n",
        "    finVertice = fin\n",
        "    \n",
        "    # Cola para almacenar los nodos que se van a visitar\n",
        "    cola = [inicioVertice]\n",
        "    # Conjunto para almacenar los nodos que ya se visitaron\n",
        "    visitados = set()\n",
        "    # Diccionario para almacenar el camino que se ha seguido para llegar a cada nodo\n",
        "    camino = {inicioVertice: None}\n",
        "\n",
        "    # Mientras la cola no está vacía\n",
        "    while cola:\n",
        "        # Sacar el primer nodo de la cola\n",
        "        actual = cola.pop(0)\n",
        "        # Si el nodo actual es el nodo final, terminar\n",
        "        if actual == finVertice:\n",
        "            break\n",
        "        # Si el nodo actual no ha sido visitado\n",
        "        if actual not in visitados:\n",
        "            # Marcar el nodo actual como visitado\n",
        "            visitados.add(actual)\n",
        "            # Agregar los vecinos del nodo actual a la cola\n",
        "            for vecino in G.neighbors(actual):\n",
        "                if vecino not in visitados:\n",
        "                    cola.append(vecino)\n",
        "                    # Almacenar el camino que se ha seguido para llegar al vecino\n",
        "                    camino[vecino] = actual\n",
        "\n",
        "    # Obtener la ruta más corta\n",
        "    ruta_mas_corta = obtener_ruta_mas_corta(inicioVertice, finVertice, camino)\n",
        "    print(\"Ruta más corta:\", ruta_mas_corta)\n",
        "\n",
        "    # Construir la nueva gráfica con los nodos y aristas alcanzables por BFS\n",
        "    G_bfs = nx.Graph()\n",
        "    for nodo, padre in camino.items():\n",
        "        if padre is not None:\n",
        "            G_bfs.add_edge(nodo, padre)\n",
        "\n",
        "\n",
        "    # Dibujar el grafo resultante del BFS\n",
        "    pos = {(fila, columna): (columna, -fila) for fila in range(filas) for columna in range(columnas)}\n",
        "    # node_shapes = [\"E\" if nodo == inicioVertice else \"S\" if nodo == finVertice else \"0\" for nodo in G_bfs.nodes()]\n",
        "    nx.draw(G_bfs, pos, with_labels=True, node_size=700, node_color='cyan', font_size=8, font_weight='bold') # node_shape=node_shapes\n",
        "    plt.show()\n",
        "\n",
        "    # Dibujamos la ruta mas corta\n",
        "    pos = {(fila, columna): (columna, -fila) for fila in range(filas) for columna in range(columnas)}\n",
        "    \n",
        "    nx.draw(G_bfs, pos, with_labels=True, node_size=700, node_color='cyan', font_size=8, font_weight='bold')\n",
        "    nx.draw_networkx_nodes(G_bfs, pos, nodelist=ruta_mas_corta, node_color='red', node_size=700)\n",
        "    nx.draw_networkx_edges(G_bfs, pos, edgelist=[(ruta_mas_corta[i], ruta_mas_corta[i+1]) for i in range(len(ruta_mas_corta)-1)], edge_color='red', width=2)\n",
        "    plt.show()\n",
        "    \n",
        "    "
      ]
    },
    {
      "cell_type": "markdown",
      "metadata": {},
      "source": [
        "### El laberinto\n",
        "Aqui definimos el laberinto que usaremos para nuestro algoritmo."
      ]
    },
    {
      "cell_type": "code",
      "execution_count": 7,
      "metadata": {},
      "outputs": [],
      "source": [
        "# Representación del laberinto\n",
        "laberinto = [\n",
        "    [\"E\",  0,  0,    0,    0  ],\n",
        "    [ 1,   0,  1,    1,    0  ],\n",
        "    [ 0,   0,  0,    0,    0  ],\n",
        "    [ 0,   1,  0,    1,    0  ],\n",
        "    [ 0,   0,  0,    1,   \"S\" ]\n",
        "]"
      ]
    },
    {
      "cell_type": "markdown",
      "metadata": {},
      "source": [
        "### El Agente\n",
        "Creamos una instancia del agente en la entrada del laberinto (que es la (0,0), pero puede cambiar)"
      ]
    },
    {
      "cell_type": "code",
      "execution_count": 8,
      "metadata": {},
      "outputs": [],
      "source": [
        "xAGENTE = 0\n",
        "yAGENTE = 0"
      ]
    },
    {
      "cell_type": "code",
      "execution_count": 9,
      "metadata": {},
      "outputs": [],
      "source": [
        "agente = Agente([xAGENTE,yAGENTE])"
      ]
    },
    {
      "cell_type": "markdown",
      "metadata": {},
      "source": [
        "### Llamada a nuestro algoritmo\n",
        "\n",
        "Finalmente, llamamos a nuestro algoritmo para que se ejecute y nos muestre si encontró la salida o no."
      ]
    },
    {
      "cell_type": "code",
      "execution_count": 5,
      "metadata": {},
      "outputs": [
        {
          "name": "stdout",
          "output_type": "stream",
          "text": [
            "Primer movimiento!\t Posición: [0, 0]\n",
            "Movimiento: derecha\t Posición: [0, 1]\n",
            "Movimiento: abajo\t Posición: [1, 1]\n",
            "Movimiento: abajo\t Posición: [2, 1]\n",
            "Movimiento: izquierda\t Posición: [2, 0]\n",
            "Movimiento: abajo\t Posición: [3, 0]\n",
            "Movimiento: abajo\t Posición: [4, 0]\n",
            "Movimiento: derecha\t Posición: [4, 1]\n",
            "Movimiento: derecha\t Posición: [4, 2]\n",
            "Movimiento: arriba\t Posición: [3, 2]\n",
            "Movimiento: arriba\t Posición: [2, 2]\n",
            "Movimiento: derecha\t Posición: [2, 3]\n",
            "Movimiento: derecha\t Posición: [2, 4]\n",
            "Movimiento: abajo\t Posición: [3, 4]\n",
            "Movimiento: abajo\t Posición: [4, 4]\n",
            "Encontré la salida :D\n",
            "\n"
          ]
        }
      ],
      "source": [
        "algoritmoBRUTAL = backtrack(agente, laberinto)"
      ]
    },
    {
      "cell_type": "code",
      "execution_count": 6,
      "metadata": {},
      "outputs": [
        {
          "name": "stdout",
          "output_type": "stream",
          "text": [
            "Representacion grafica de los pasos seguidos por el agente para la solucion final: \n",
            "\n",
            "■ = Obstaculos (los 1's)\n",
            "O = Celda Libre\n",
            "S = Salida\n",
            "\n",
            "[ → ↓ O O O ]\n",
            "[ ■ ↓ ■ ■ O ]\n",
            "[ ↓ ← → → ↓ ]\n",
            "[ ↓ ■ ↑ ■ ↓ ]\n",
            "[ → → ↑ ■ S ]\n"
          ]
        }
      ],
      "source": [
        "print(\"Representacion grafica de los pasos seguidos por el agente para la solucion final: \\n\")\n",
        "print(\"■ = Obstaculos (los 1's)\")\n",
        "print(\"O = Celda Libre\")\n",
        "print(\"S = Salida\\n\")\n",
        "\n",
        "for lab in laberinto:\n",
        "    print('[', end='')\n",
        "    for path in lab:\n",
        "        if path == 1:\n",
        "            path = '■'\n",
        "        if path == 0:\n",
        "            path = 'O'\n",
        "        print(f\" {path}\", end='')\n",
        "    print(\" ]\")"
      ]
    },
    {
      "cell_type": "markdown",
      "metadata": {},
      "source": [
        "## BFS\n",
        "\n",
        "Representacion de la grafica asociada al laberinto, notese como es que todos los vertices asociados a los **1's** quedan desconectados de la grafica\n",
        "ya que no es posible moverse a traves de ellos."
      ]
    },
    {
      "cell_type": "code",
      "execution_count": 12,
      "metadata": {},
      "outputs": [
        {
          "data": {
            "image/png": "[encoded data removed]",
            "text/plain": [
              "<Figure size 640x480 with 1 Axes>"
            ]
          },
          "metadata": {},
          "output_type": "display_data"
        }
      ],
      "source": [
        "laberintoGrafica = dibujar_grafo_laberinto(laberinto)"
      ]
    },
    {
      "cell_type": "markdown",
      "metadata": {},
      "source": [
        "Procedemos a realizar la busqueda en anchura para encontrar la salida del laberinto.\n",
        "\n",
        "Esto partiendo desde nuestro vertice inicial (E o la posicion del agente) y buscando el vertice final S (la salida del laberinto).\n",
        "\n",
        "Una vez realizada la busqueda, regresamos una nueva grafica en la que se muestre en rojo el camino mas corto entre el agente y la salida."
      ]
    },
    {
      "cell_type": "code",
      "execution_count": 11,
      "metadata": {},
      "outputs": [
        {
          "name": "stdout",
          "output_type": "stream",
          "text": [
            "Ruta más corta: [(0, 0), (0, 1), (0, 2), (0, 3), (0, 4), (1, 4), (2, 4), (3, 4), (4, 4)]\n"
          ]
        },
        {
          "data": {
            "image/png": "[encoded data removed]",
            "text/plain": [
              "<Figure size 640x480 with 1 Axes>"
            ]
          },
          "metadata": {},
          "output_type": "display_data"
        },
        {
          "data": {
            "image/png": "[encoded data removed]",
            "text/plain": [
              "<Figure size 640x480 with 1 Axes>"
            ]
          },
          "metadata": {},
          "output_type": "display_data"
        }
      ],
      "source": [
        "laberintoBSF = BFS(laberinto)"
      ]
    },
    {
      "cell_type": "markdown",
      "metadata": {},
      "source": [
        "### Imprimimos el laberinto en su forma matricial original"
      ]
    },
    {
      "cell_type": "code",
      "execution_count": 14,
      "metadata": {},
      "outputs": [
        {
          "name": "stdout",
          "output_type": "stream",
          "text": [
            "\n",
            "Laberinto Original: \n",
            "['E', 0, 0, 0, 0]\n",
            "[1, 0, 1, 1, 0]\n",
            "[0, 0, 0, 0, 0]\n",
            "[0, 1, 0, 1, 0]\n",
            "[0, 0, 0, 1, 'S']\n"
          ]
        }
      ],
      "source": [
        "# Imprimimos el laberinto original en su forma de matriz\n",
        "print(\"\\nLaberinto Original: \")\n",
        "for lab in laberinto:\n",
        "    print(lab)"
      ]
    },
    {
      "cell_type": "markdown",
      "metadata": {},
      "source": [
        "### Generador aleatorio de laberintos\n",
        "\n",
        "---\n",
        "\n",
        "Modificar los parametros de filas y columnas para generar laberintos de diferentes tamaños."
      ]
    },
    {
      "cell_type": "code",
      "execution_count": 7,
      "metadata": {},
      "outputs": [],
      "source": [
        "# Dimensiones del laberinto\n",
        "filas = 25\n",
        "columnas = 25"
      ]
    },
    {
      "cell_type": "code",
      "execution_count": 8,
      "metadata": {},
      "outputs": [
        {
          "name": "stdout",
          "output_type": "stream",
          "text": [
            "[1, 0, 1, 1, 1, 1, 0, 0, 1, 1, 1, 1, 0, 1, 1, 1, 0, 0, 1, 1, 0, 0, 1, 1, 0]\n",
            "[1, 1, 1, 0, 0, 1, 1, 1, 0, 1, 1, 0, 0, 0, 1, 0, 0, 0, 0, 1, 0, 1, 0, 1, 1]\n",
            "[1, 1, 0, 1, 1, 1, 0, 0, 0, 0, 1, 1, 0, 1, 0, 0, 1, 1, 0, 1, 1, 1, 0, 0, 0]\n",
            "[1, 0, 1, 1, 1, 0, 1, 0, 1, 0, 0, 1, 0, 0, 0, 1, 0, 0, 0, 0, 1, 1, 0, 1, 0]\n",
            "[0, 0, 0, 1, 1, 1, 1, 0, 1, 1, 1, 1, 1, 1, 0, 0, 1, 1, 0, 1, 1, 0, 0, 1, 0]\n",
            "[1, 1, 0, 1, 1, 'S', 1, 1, 0, 0, 1, 1, 0, 0, 1, 1, 1, 0, 0, 0, 0, 0, 1, 1, 1]\n",
            "[1, 0, 0, 0, 0, 1, 0, 1, 1, 1, 0, 1, 0, 0, 0, 1, 1, 1, 1, 1, 1, 1, 0, 0, 1]\n",
            "[1, 0, 1, 0, 1, 0, 1, 0, 0, 0, 0, 1, 1, 0, 0, 1, 0, 1, 1, 1, 0, 0, 1, 0, 1]\n",
            "[1, 0, 1, 1, 0, 0, 1, 1, 1, 0, 0, 0, 0, 1, 1, 0, 0, 0, 1, 0, 0, 0, 1, 0, 1]\n",
            "[1, 1, 0, 1, 1, 0, 1, 0, 1, 1, 1, 0, 0, 1, 0, 0, 1, 1, 0, 1, 0, 0, 0, 0, 1]\n",
            "[1, 1, 0, 1, 0, 0, 0, 0, 0, 1, 0, 1, 1, 0, 1, 0, 1, 0, 0, 1, 1, 1, 0, 0, 0]\n",
            "[0, 1, 0, 1, 1, 0, 0, 0, 1, 0, 0, 0, 1, 1, 0, 1, 0, 0, 1, 0, 0, 0, 1, 0, 1]\n",
            "[1, 1, 1, 0, 1, 0, 1, 0, 0, 1, 0, 0, 1, 0, 1, 0, 1, 1, 0, 1, 0, 1, 1, 1, 1]\n",
            "[1, 1, 1, 0, 1, 1, 0, 0, 1, 0, 0, 1, 0, 1, 1, 1, 1, 1, 1, 0, 1, 0, 0, 1, 1]\n",
            "[1, 0, 1, 0, 1, 0, 1, 1, 0, 1, 1, 1, 0, 0, 1, 1, 0, 1, 0, 0, 1, 1, 1, 1, 1]\n",
            "[1, 0, 1, 1, 0, 0, 1, 0, 0, 0, 0, 0, 0, 1, 1, 1, 0, 0, 1, 1, 1, 0, 1, 0, 0]\n",
            "[1, 1, 1, 0, 1, 1, 0, 0, 1, 1, 0, 1, 1, 0, 1, 0, 1, 0, 1, 0, 1, 1, 0, 1, 0]\n",
            "[1, 1, 1, 1, 0, 0, 0, 1, 1, 0, 1, 1, 0, 0, 1, 0, 0, 0, 0, 0, 1, 0, 1, 1, 0]\n",
            "[1, 0, 0, 0, 0, 1, 1, 1, 0, 1, 'E', 1, 1, 0, 0, 0, 0, 1, 1, 0, 1, 0, 0, 0, 1]\n",
            "[1, 1, 0, 1, 1, 1, 1, 0, 1, 1, 1, 1, 1, 0, 0, 0, 0, 1, 0, 1, 1, 0, 1, 1, 0]\n",
            "[0, 1, 0, 0, 1, 1, 1, 1, 1, 1, 0, 0, 0, 1, 0, 1, 1, 1, 0, 1, 0, 0, 0, 1, 1]\n",
            "[0, 0, 0, 0, 1, 1, 1, 0, 1, 0, 0, 1, 1, 0, 0, 0, 0, 1, 0, 1, 1, 1, 1, 0, 0]\n",
            "[1, 0, 0, 1, 0, 0, 1, 0, 0, 1, 1, 1, 0, 0, 0, 1, 0, 0, 1, 1, 1, 1, 0, 0, 0]\n",
            "[1, 1, 1, 1, 1, 0, 1, 0, 0, 0, 1, 0, 0, 0, 0, 1, 1, 1, 0, 0, 1, 0, 1, 0, 0]\n",
            "[1, 0, 0, 0, 0, 1, 1, 1, 1, 1, 0, 1, 1, 0, 1, 0, 0, 1, 0, 1, 0, 0, 1, 1, 0]\n"
          ]
        }
      ],
      "source": [
        "import random\n",
        "\n",
        "# Crear el laberinto con todos los valores aleatorios\n",
        "laberintoA = [[random.choice([0,1]) for _ in range(columnas)] for _ in range(filas)]\n",
        "\n",
        "# Elegir una posición aleatoria para la entrada (E) y la salida (S)\n",
        "entrada_fila, entrada_columna = random.randint(0, filas - 1), random.randint(0, columnas - 1)\n",
        "salida_fila, salida_columna = random.randint(0, filas - 1), random.randint(0, columnas - 1)\n",
        "\n",
        "# Asegurarse que la entrada y la salida no estén en la misma posición\n",
        "while entrada_fila == salida_fila and entrada_columna == salida_columna:\n",
        "    salida_fila, salida_columna = random.randint(0, filas - 1), random.randint(0, columnas - 1)\n",
        "\n",
        "# Establecer la entrada (E) y la salida (S)\n",
        "laberintoA[entrada_fila][entrada_columna] = 'E'\n",
        "laberintoA[salida_fila][salida_columna] = 'S'\n",
        "\n",
        "# Imprimir el laberinto\n",
        "for fila in laberintoA:\n",
        "    print(fila)"
      ]
    },
    {
      "cell_type": "code",
      "execution_count": 9,
      "metadata": {},
      "outputs": [],
      "source": [
        "# laberintoA[entrada_fila][entrada_columna] = 'E'\n",
        "agenteA = Agente( [entrada_fila, entrada_columna] )"
      ]
    },
    {
      "cell_type": "markdown",
      "metadata": {},
      "source": [
        "En caso de que al ejecutar no se muestren los pasos, es un alto indicativo de que no existe solucion para el laberinto generado."
      ]
    },
    {
      "cell_type": "code",
      "execution_count": 10,
      "metadata": {},
      "outputs": [],
      "source": [
        "algoritmoBRUTALISIMO = backtrack(agenteA, laberintoA)"
      ]
    },
    {
      "cell_type": "code",
      "execution_count": 11,
      "metadata": {},
      "outputs": [
        {
          "name": "stdout",
          "output_type": "stream",
          "text": [
            "Representacion grafica de los pasos seguidos por el agente para la solucion final: \n",
            "\n",
            "■ = Obstaculos (los 1's)\n",
            "O = Celda Libre\n",
            "S = Salida\n",
            "\n",
            "[ ■ O ■ ■ ■ ■ O O ■ ■ ■ ■ O ■ ■ ■ O O ■ ■ O O ■ ■ O ]\n",
            "[ ■ ■ ■ O O ■ ■ ■ O ■ ■ O O O ■ O O O O ■ O ■ O ■ ■ ]\n",
            "[ ■ ■ O ■ ■ ■ O O O O ■ ■ O ■ O O ■ ■ O ■ ■ ■ O O O ]\n",
            "[ ■ O ■ ■ ■ O ■ O ■ O O ■ O O O ■ O O O O ■ ■ O ■ O ]\n",
            "[ O O O ■ ■ ■ ■ O ■ ■ ■ ■ ■ ■ O O ■ ■ O ■ ■ O O ■ O ]\n",
            "[ ■ ■ O ■ ■ S ■ ■ O O ■ ■ O O ■ ■ ■ O O O O O ■ ■ ■ ]\n",
            "[ ■ O O O O ■ O ■ ■ ■ O ■ O O O ■ ■ ■ ■ ■ ■ ■ O O ■ ]\n",
            "[ ■ O ■ O ■ O ■ O O O O ■ ■ O O ■ O ■ ■ ■ O O ■ O ■ ]\n",
            "[ ■ O ■ ■ O O ■ ■ ■ O O O O ■ ■ O O O ■ O O O ■ O ■ ]\n",
            "[ ■ ■ O ■ ■ O ■ O ■ ■ ■ O O ■ O O ■ ■ O ■ O O O O ■ ]\n",
            "[ ■ ■ O ■ O O O O O ■ O ■ ■ O ■ O ■ O O ■ ■ ■ O O O ]\n",
            "[ O ■ O ■ ■ O O O ■ O O O ■ ■ O ■ O O ■ O O O ■ O ■ ]\n",
            "[ ■ ■ ■ O ■ O ■ O O ■ O O ■ O ■ O ■ ■ O ■ O ■ ■ ■ ■ ]\n",
            "[ ■ ■ ■ O ■ ■ O O ■ O O ■ O ■ ■ ■ ■ ■ ■ O ■ O O ■ ■ ]\n",
            "[ ■ O ■ O ■ O ■ ■ O ■ ■ ■ O O ■ ■ O ■ O O ■ ■ ■ ■ ■ ]\n",
            "[ ■ O ■ ■ O O ■ O O O O O O ■ ■ ■ O O ■ ■ ■ O ■ O O ]\n",
            "[ ■ ■ ■ O ■ ■ O O ■ ■ O ■ ■ O ■ O ■ O ■ O ■ ■ O ■ O ]\n",
            "[ ■ ■ ■ ■ O O O ■ ■ O ■ ■ O O ■ O O O O O ■ O ■ ■ O ]\n",
            "[ ■ O O O O ■ ■ ■ O ■ E ■ ■ O O O O ■ ■ O ■ O O O ■ ]\n",
            "[ ■ ■ O ■ ■ ■ ■ O ■ ■ ■ ■ ■ O O O O ■ O ■ ■ O ■ ■ O ]\n",
            "[ O ■ O O ■ ■ ■ ■ ■ ■ O O O ■ O ■ ■ ■ O ■ O O O ■ ■ ]\n",
            "[ O O O O ■ ■ ■ O ■ O O ■ ■ O O O O ■ O ■ ■ ■ ■ O O ]\n",
            "[ ■ O O ■ O O ■ O O ■ ■ ■ O O O ■ O O ■ ■ ■ ■ O O O ]\n",
            "[ ■ ■ ■ ■ ■ O ■ O O O ■ O O O O ■ ■ ■ O O ■ O ■ O O ]\n",
            "[ ■ O O O O ■ ■ ■ ■ ■ O ■ ■ O ■ O O ■ O ■ O O ■ ■ O ]\n"
          ]
        }
      ],
      "source": [
        "# Imprimir trayecto y eventos en el laberinto\n",
        "print(\"Representacion grafica de los pasos seguidos por el agente para la solucion final: \\n\")\n",
        "print(\"■ = Obstaculos (los 1's)\")\n",
        "print(\"O = Celda Libre\")\n",
        "print(\"S = Salida\\n\")\n",
        "\n",
        "for lab in laberintoA:\n",
        "    print('[', end='')\n",
        "    for path in lab:\n",
        "        if path == 1:\n",
        "            path = '■'\n",
        "        if path == 0:\n",
        "            path = 'O'\n",
        "        print(f\" {path}\", end='')\n",
        "    print(\" ]\")"
      ]
    }
  ],
  "metadata": {
    "colab": {
      "provenance": []
    },
    "kernelspec": {
      "display_name": "Python 3",
      "name": "python3"
    },
    "language_info": {
      "codemirror_mode": {
        "name": "ipython",
        "version": 3
      },
      "file_extension": ".py",
      "mimetype": "text/x-python",
      "name": "python",
      "nbconvert_exporter": "python",
      "pygments_lexer": "ipython3",
      "version": "3.11.4"
    }
  },
  "nbformat": 4,
  "nbformat_minor": 0
}
