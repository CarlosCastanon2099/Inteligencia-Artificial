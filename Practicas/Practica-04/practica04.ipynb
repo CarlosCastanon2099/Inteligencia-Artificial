{
  "cells": [
    {
      "cell_type": "markdown",
      "metadata": {
        "id": "VE6dZbwxVD7d"
      },
      "source": [
        "# 🔴 Práctica 04: Exploradores de laberinto 🏟️\n",
        "\n",
        "----"
      ]
    },
    {
      "cell_type": "markdown",
      "metadata": {},
      "source": [
        "<b>Team:</b> <font color='red'>S</font><b>ocios</b> <font color='blue'>I</font><b>nteligentemente</b> <font color='green'>A</font><b>rtificiales</b> (<font color='red'>S</font>.<font color='blue'>I</font>.<font color='green'>A</font>)\n",
        "\n",
        "\n",
        "<font color='red'>✪</font> Bonilla Reyes Dafne\n",
        "\n",
        "<font color='red'>✪</font> Castañón Maldonado Carlos Emilio\n",
        "\n",
        "<font color='red'>✪</font> Mares Cruz Tlacaelel Horacio\n",
        "\n",
        "<font color='red'>✪</font> Maya Castrejón Luis Manuel\n",
        "\n",
        "<font color='red'>✪</font> Navarro Santana Pablo César\n",
        "\n",
        "\n",
        "\n",
        "----"
      ]
    },
    {
      "cell_type": "markdown",
      "metadata": {},
      "source": [
        "<div style=\"text-align: center\"> \n",
        "\n",
        "[![](https://media.giphy.com/media/v1.Y2lkPTc5MGI3NjExendwNm0xdzcxZnV2Ym56cXRlOXlldDdyOTRwMmpmNnlsam0zMXdtaCZlcD12MV9pbnRlcm5hbF9naWZfYnlfaWQmY3Q9Zw/DdmrOg4Z4tndBRAtM3/giphy-downsized.gif)](https://www.youtube.com/watch?v=YRvOePz2OqQ)\n",
        "\n",
        "</div>\n"
      ]
    },
    {
      "cell_type": "markdown",
      "metadata": {},
      "source": [
        "### 📌 **Definimos la Clase Agente**\n",
        "\n",
        "<div style=\"text-align: justify\"> \n",
        "\n",
        "El agente tiene que explorar el laberinto y encontrar la salida. Al crearlo, solo le damos su posición inicial en el laberinto, como si estuviera parado en la entrada, mirando hacia adentro, preguntándose qué le depara el destino.\n",
        "\n",
        "Tiene que moverse pero no puede simplemente moverse como sea debe evitar obstáculos. Le decimos en qué dirección ir (\"arriba\", \"abajo\", \"izquierda\", \"derecha\"), y él verifica si el camino está libre. Si encuentra un muro (un obstáculo representado por un 1), sabe que debe detenerse y pensar en otro camino.\n",
        "\n",
        "</div>"
      ]
    },
    {
      "cell_type": "code",
      "execution_count": 213,
      "metadata": {
        "id": "HkxXIpQLV_BN"
      },
      "outputs": [],
      "source": [
        "class Agente:\n",
        "    def __init__(self, posicion):\n",
        "        \"\"\"\n",
        "        Inicializa un objeto Agente con una posición dada.\n",
        "\n",
        "        Args:\n",
        "            posicion (list): La posición inicial del agente en forma de lista [x, y].\n",
        "        \"\"\"\n",
        "        self.posicion = posicion\n",
        "\n",
        "    def mover(self, direccion, laberinto):\n",
        "        \"\"\"\n",
        "        Mueve el agente en la dirección especificada si es un movimiento válido.\n",
        "\n",
        "        Args:\n",
        "            direccion (str): La dirección en la que se desea mover el agente (\"arriba\", \"abajo\", \"izquierda\", \"derecha\").\n",
        "            laberinto (list): El laberinto en forma de matriz.\n",
        "\n",
        "        Returns:\n",
        "            list or None: La nueva posición del agente si el movimiento es válido, None en caso contrario.\n",
        "        \"\"\"\n",
        "        x, y = self.posicion\n",
        "        # Mueve el agente arriba si no es límite superior, y donde la celda destino no es un obstáculo.\n",
        "        if direccion == \"arriba\" and x > 0 and laberinto[x-1][y] != 1:\n",
        "            self.posicion = [x-1, y]\n",
        "        # Mueve el agente abajo si no es límite inferior, y donde la celda destino no es un obstáculo.\n",
        "        elif direccion == \"abajo\" and x < len(laberinto) - 1 and laberinto[x+1][y] != 1:\n",
        "            self.posicion = [x+1, y]\n",
        "        # Mueve el agente izquierda si no es límite izquierdo, y donde la celda destino no es un obstáculo.\n",
        "        elif direccion == \"izquierda\" and y > 0 and laberinto[x][y-1] != 1:\n",
        "            self.posicion = [x, y-1]\n",
        "        # Mueve el agente derecha si no es límite derecho, y donde la celda destino no es un obstáculo. \n",
        "        elif direccion == \"derecha\" and y < len(laberinto[0]) - 1 and laberinto[x][y+1] != 1:\n",
        "            self.posicion = [x, y+1]\n",
        "        else:\n",
        "            return None\n",
        "        \n",
        "        return self.posicion"
      ]
    },
    {
      "cell_type": "markdown",
      "metadata": {},
      "source": [
        "#### ➡️ **Flechas**\n",
        "\n",
        "<div style=\"text-align: justify\"> \n",
        "\n",
        "Mientras nuestro agente explora, vamos a dejar un rastro de su viaje. Para eso utilizamos la función flechas. Cada vez que el Agente toma una decisión sobre hacia dónde moverse, convertimos esa dirección en una flecha visual (\"↑\", \"↓\", \"←\", \"→\").\n",
        "\n",
        "</div>"
      ]
    },
    {
      "cell_type": "code",
      "execution_count": 214,
      "metadata": {},
      "outputs": [],
      "source": [
        "'''\n",
        "Funcion que recibe una dirección y retorna la flecha correspondiente a la dirección.\n",
        "'''\n",
        "def flechas(direccion):\n",
        "    \"\"\"\n",
        "    Devuelve una flecha correspondiente a la dirección dada.\n",
        "\n",
        "    Parámetros:\n",
        "    direccion (str): La dirección de la flecha. Puede ser \"arriba\", \"abajo\", \"izquierda\" o \"derecha\".\n",
        "\n",
        "    Retorna:\n",
        "    str: La flecha correspondiente a la dirección dada.\n",
        "    \"\"\"\n",
        "    if direccion == \"arriba\":\n",
        "        return  \"↑\"\n",
        "    elif direccion == \"abajo\":\n",
        "        return  \"↓\"\n",
        "    elif direccion == \"izquierda\":\n",
        "        return  \"←\"\n",
        "    elif direccion == \"derecha\":\n",
        "        return  \"→\""
      ]
    },
    {
      "cell_type": "markdown",
      "metadata": {},
      "source": [
        "### 📌 **Backtracking**\n",
        "\n",
        "<div style=\"text-align: justify\"> \n",
        "\n",
        "Funcion en la que definimos el backtracking que usará el agente para encontrar (o no) la salida del laberinto. Esta funcion regresa solo la solucion final, es decir, el camino que el agente debe seguir para llegar a la salida del laberinto y\n",
        "por ende no regresa todos los posibles caminos usados por el agente.\n",
        "\n",
        "Iniciamos marcando el comienzo de la exploración con el registro del primer movimiento. Para evitar recorrer los mismos caminos, empleamos un conjunto de visitados, y evaluamos cada movimiento en función de su viabilidad y su capacidad para acercarnos a la meta. Al hacer esto el agente encuentra la salida y aprende de cada paso.\n",
        "\n",
        "</div>"
      ]
    },
    {
      "cell_type": "code",
      "execution_count": 215,
      "metadata": {},
      "outputs": [],
      "source": [
        "\n",
        "\"\"\"\n",
        "    Realiza una búsqueda en profundidad (backtracking) para encontrar la salida en un laberinto.\n",
        "\n",
        "    Parámetros:\n",
        "    - agente (agente): El agente que se mueve por el laberinto.\n",
        "    - laberinto (list): El laberinto representado como una matriz.\n",
        "    - visitados (set): Conjunto de celdas visitadas. Por defecto, es None.\n",
        "    - instrucciones (list): Lista de instrucciones para llegar a la salida. Por defecto, es una lista vacía.\n",
        "\n",
        "    Retorna:\n",
        "    - bool: True si se encuentra la salida, False si no se encuentra.\n",
        "\n",
        "\"\"\"\n",
        "def backtrack(agente, laberinto, visitados = None, instrucciones = []):\n",
        "    if not instrucciones :\n",
        "        instrucciones.append(f\"Primer movimiento!\\t Posición: [{agente.posicion[0]}, {agente.posicion[1]}]\")\n",
        "    if visitados is None:\n",
        "        visitados = set()\n",
        "\n",
        "    x, y = agente.posicion\n",
        "\n",
        "    if laberinto[x][y] == \"S\":  # Si el agente encuentra la salida, imprime el camino y retorna True\n",
        "        for i in instrucciones:\n",
        "            print(i)\n",
        "        print(\"Encontré la salida :D\\n\")\n",
        "        return True\n",
        "    else:\n",
        "        visitados.add((x, y))  # Marcar la celda actual como visitada\n",
        "        movimientos = [\"arriba\", \"abajo\", \"izquierda\", \"derecha\"]\n",
        "\n",
        "        for movimiento in movimientos:\n",
        "            agente_temp = Agente(agente.posicion[:])  # Crear una copia del agente para simular movimientos\n",
        "            nueva_posicion = agente_temp.mover(movimiento, laberinto)\n",
        "\n",
        "            if nueva_posicion and tuple(nueva_posicion) not in visitados:  # Verificar si el movimiento es válido y Si la nueva posición no ha sido visitada\n",
        "\n",
        "                instrucciones.append(f\"Movimiento: {movimiento}\\t Posición: {nueva_posicion}\")\n",
        "                if backtrack(Agente(nueva_posicion), laberinto, visitados):\n",
        "                    laberinto[agente.posicion[0]][agente.posicion[1]] = flechas(movimiento)\n",
        "                    return True\n",
        "                else:\n",
        "                    laberinto[agente.posicion[0]][agente.posicion[1]] = 0\n",
        "                    instrucciones.pop()\n",
        "                    \n",
        "        return False"
      ]
    },
    {
      "cell_type": "markdown",
      "metadata": {},
      "source": [
        "**En caso de no querer usar el entorno virtual ejecutar los siguientes comandos:**"
      ]
    },
    {
      "cell_type": "code",
      "execution_count": 216,
      "metadata": {},
      "outputs": [],
      "source": [
        "#pip install matplotlib\n",
        "#pip install networkx\n",
        "#pip install seaborn"
      ]
    },
    {
      "cell_type": "markdown",
      "metadata": {},
      "source": [
        "**Mandamos a llamar a las librerias que usamos para la practica:**"
      ]
    },
    {
      "cell_type": "code",
      "execution_count": 217,
      "metadata": {},
      "outputs": [],
      "source": [
        "import matplotlib.pyplot as plt\n",
        "from matplotlib.animation import FuncAnimation\n",
        "from matplotlib import rc\n",
        "import networkx as nx\n",
        "from IPython import display\n",
        "from IPython.display import HTML\n",
        "import numpy as np"
      ]
    },
    {
      "cell_type": "code",
      "execution_count": 218,
      "metadata": {},
      "outputs": [],
      "source": [
        "# Funcion auxiliar para localizar la primera \"S\" que se encuentre en un laberinto\n",
        "# Esta es usada en las funciones de DFS y BFS.\n",
        "def doxeaLaS(laberinto):\n",
        "    for i in range(len(laberinto)):\n",
        "        for j in range(len(laberinto[0])):\n",
        "            if laberinto[i][j] == \"S\":\n",
        "                return (i,j)\n"
      ]
    },
    {
      "cell_type": "code",
      "execution_count": 219,
      "metadata": {},
      "outputs": [],
      "source": [
        "\n",
        "# Funcion que en base a un laberinto matricial, dibuja a este ultimo como una grafica.\n",
        "def dibujar_grafo_laberinto(laberinto):\n",
        "    G = nx.Graph()\n",
        "\n",
        "    filas = len(laberinto)\n",
        "    columnas = len(laberinto[0])\n",
        "\n",
        "    # Crear nodos\n",
        "    for fila in range(filas):\n",
        "        for columna in range(columnas):\n",
        "            # Agregar nodo con su posición como atributo\n",
        "            G.add_node((fila, columna))\n",
        "\n",
        "    # Crear aristas\n",
        "    for fila in range(filas):\n",
        "        for columna in range(columnas):\n",
        "            # Verificar si la celda actual es un pasillo (0 o \"E\" o \"S\")\n",
        "            if laberinto[fila][columna] == 0 or laberinto[fila][columna] == \"E\" or laberinto[fila][columna] == \"S\":\n",
        "                # Agregar aristas a las celdas vecinas que también son pasillos\n",
        "                if fila > 0 and laberinto[fila - 1][columna] == 0:\n",
        "                    G.add_edge((fila, columna), (fila - 1, columna))\n",
        "                if fila < filas - 1 and laberinto[fila + 1][columna] == 0:\n",
        "                    G.add_edge((fila, columna), (fila + 1, columna))\n",
        "                if columna > 0 and laberinto[fila][columna - 1] == 0:\n",
        "                    G.add_edge((fila, columna), (fila, columna - 1))\n",
        "                if columna < columnas - 1 and laberinto[fila][columna + 1] == 0:\n",
        "                    G.add_edge((fila, columna), (fila, columna + 1))\n",
        "\n",
        "    # Dibujar el grafo\n",
        "    pos = {(fila, columna): (columna, -fila) for fila in range(filas) for columna in range(columnas)}\n",
        "    #print(pos)\n",
        "    nx.draw(G, pos, with_labels=True, node_size=700, node_color='cyan', font_size=8, font_weight='bold')\n",
        "    plt.show()\n"
      ]
    },
    {
      "cell_type": "markdown",
      "metadata": {},
      "source": [
        "### 📌 **Laberinto**\n",
        "Aquí definimos el laberinto que usaremos para nuestro algoritmo."
      ]
    },
    {
      "cell_type": "code",
      "execution_count": 244,
      "metadata": {},
      "outputs": [],
      "source": [
        "# Representación del laberinto\n",
        "laberinto = [\n",
        "    [\"E\",  0,  0,    0,    0  ],\n",
        "    [ 1,   0,  1,    1,    0  ],\n",
        "    [ 0,   0,  0,    0,    0  ],\n",
        "    [ 0,   1,  0,    1,    0  ],\n",
        "    [ 0,   0,  0,    1,   \"S\" ]\n",
        "]\n",
        "\n",
        "laberintoBacktrack = [\n",
        "    [\"E\",  0,  0,    0,    0  ],\n",
        "    [ 1,   0,  1,    1,    0  ],\n",
        "    [ 0,   0,  0,    0,    0  ],\n",
        "    [ 0,   1,  0,    1,    0  ],\n",
        "    [ 0,   0,  0,    1,   \"S\" ]\n",
        "]\n",
        "\n",
        "laberintoBFS = [\n",
        "    [\"E\",  0,  0,    0,    0  ],\n",
        "    [ 1,   0,  1,    1,    0  ],\n",
        "    [ 0,   0,  0,    0,    0  ],\n",
        "    [ 0,   1,  0,    1,    0  ],\n",
        "    [ 0,   0,  0,    1,   \"S\" ]\n",
        "]\n",
        "\n",
        "laberintoDFS = [\n",
        "    [\"E\",  0,  0,    0,    0  ],\n",
        "    [ 1,   0,  1,    1,    0  ],\n",
        "    [ 0,   0,  0,    0,    0  ],\n",
        "    [ 0,   1,  0,    1,    0  ],\n",
        "    [ 0,   0,  0,    1,   \"S\" ]\n",
        "]"
      ]
    },
    {
      "cell_type": "markdown",
      "metadata": {},
      "source": [
        "#### 📌 **El Agente**\n",
        "Creamos una instancia del agente en la entrada del laberinto (que es la (0,0), pero puede cambiar)"
      ]
    },
    {
      "cell_type": "code",
      "execution_count": 245,
      "metadata": {},
      "outputs": [],
      "source": [
        "xAGENTE = 0\n",
        "yAGENTE = 0"
      ]
    },
    {
      "cell_type": "code",
      "execution_count": 246,
      "metadata": {},
      "outputs": [],
      "source": [
        "agenteP = Agente([xAGENTE,yAGENTE])"
      ]
    },
    {
      "cell_type": "markdown",
      "metadata": {},
      "source": [
        "### 📌 **Generador Aleatorio de Laberintos**\n",
        "\n",
        "Modificar los parametros de filas y columnas para generar laberintos de diferentes tamaños."
      ]
    },
    {
      "cell_type": "code",
      "execution_count": 234,
      "metadata": {},
      "outputs": [],
      "source": [
        "# Dimensiones del laberinto\n",
        "filas = 8\n",
        "columnas = 8"
      ]
    },
    {
      "cell_type": "code",
      "execution_count": 235,
      "metadata": {},
      "outputs": [
        {
          "name": "stdout",
          "output_type": "stream",
          "text": [
            "[0, 0, 0, 0, 0, 0, 0, 0]\n",
            "[1, 1, 1, 0, 0, 0, 0, 0]\n",
            "[0, 0, 1, 0, 0, 1, 0, 1]\n",
            "[0, 1, 1, 0, 1, 1, 0, 0]\n",
            "['S', 1, 0, 1, 0, 0, 1, 1]\n",
            "[0, 1, 'E', 0, 0, 0, 1, 1]\n",
            "[0, 0, 0, 0, 0, 1, 0, 1]\n",
            "[0, 0, 0, 0, 1, 0, 0, 0]\n"
          ]
        }
      ],
      "source": [
        "import random\n",
        "import copy \n",
        "\n",
        "# Crear el laberinto con todos los valores aleatorios\n",
        "laberintoA = [[random.choice([0,1]) for _ in range(columnas)] for _ in range(filas)]\n",
        "\n",
        "# Elegir una posición aleatoria para la entrada (E) y la salida (S)\n",
        "entrada_fila, entrada_columna = random.randint(0, filas - 1), random.randint(0, columnas - 1)\n",
        "salida_fila, salida_columna = random.randint(0, filas - 1), random.randint(0, columnas - 1)\n",
        "\n",
        "# Asegurarse que la entrada y la salida no estén en la misma posición\n",
        "while entrada_fila == salida_fila and entrada_columna == salida_columna:\n",
        "    salida_fila, salida_columna = random.randint(0, filas - 1), random.randint(0, columnas - 1)\n",
        "\n",
        "# Establecer la entrada (E) y la salida (S)\n",
        "laberintoA[entrada_fila][entrada_columna] = 'E'\n",
        "laberintoA[salida_fila][salida_columna] = 'S'\n",
        "\n",
        "laberintoCopia = copy.deepcopy(laberintoA)\n",
        "\n",
        "# Imprimir el laberinto\n",
        "for fila in laberintoA:\n",
        "    print(fila)"
      ]
    },
    {
      "cell_type": "code",
      "execution_count": 236,
      "metadata": {},
      "outputs": [],
      "source": [
        "# laberintoA[entrada_fila][entrada_columna] = 'E'\n",
        "agenteA = Agente( [entrada_fila, entrada_columna] )"
      ]
    },
    {
      "cell_type": "markdown",
      "metadata": {},
      "source": [
        "En caso de que al ejecutar no se muestren los pasos, es un alto indicativo de que no existe solucion para el laberinto generado."
      ]
    },
    {
      "cell_type": "code",
      "execution_count": 237,
      "metadata": {},
      "outputs": [
        {
          "name": "stdout",
          "output_type": "stream",
          "text": [
            "Primer movimiento!\t Posición: [0, 0]\n",
            "Movimiento: derecha\t Posición: [0, 1]\n",
            "Movimiento: abajo\t Posición: [1, 1]\n",
            "Movimiento: abajo\t Posición: [2, 1]\n",
            "Movimiento: izquierda\t Posición: [2, 0]\n",
            "Movimiento: abajo\t Posición: [3, 0]\n",
            "Movimiento: abajo\t Posición: [4, 0]\n",
            "Movimiento: derecha\t Posición: [4, 1]\n",
            "Movimiento: derecha\t Posición: [4, 2]\n",
            "Movimiento: arriba\t Posición: [3, 2]\n",
            "Movimiento: arriba\t Posición: [2, 2]\n",
            "Movimiento: derecha\t Posición: [2, 3]\n",
            "Movimiento: derecha\t Posición: [2, 4]\n",
            "Movimiento: abajo\t Posición: [3, 4]\n",
            "Movimiento: abajo\t Posición: [4, 4]\n",
            "Movimiento: abajo\t Posición: [6, 2]\n",
            "Movimiento: abajo\t Posición: [7, 2]\n",
            "Movimiento: izquierda\t Posición: [7, 1]\n",
            "Movimiento: arriba\t Posición: [6, 1]\n",
            "Movimiento: izquierda\t Posición: [6, 0]\n",
            "Movimiento: arriba\t Posición: [5, 0]\n",
            "Movimiento: arriba\t Posición: [4, 0]\n",
            "Encontré la salida :D\n",
            "\n"
          ]
        }
      ],
      "source": [
        "algoritmoBRUTALISIMO = backtrack(agenteA, laberintoA)"
      ]
    }
  ],
  "metadata": {
    "colab": {
      "provenance": []
    },
    "kernelspec": {
      "display_name": "Python 3",
      "name": "python3"
    },
    "language_info": {
      "codemirror_mode": {
        "name": "ipython",
        "version": 3
      },
      "file_extension": ".py",
      "mimetype": "text/x-python",
      "name": "python",
      "nbconvert_exporter": "python",
      "pygments_lexer": "ipython3",
      "version": "3.11.4"
    }
  },
  "nbformat": 4,
  "nbformat_minor": 0
}
