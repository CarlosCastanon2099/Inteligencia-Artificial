{
 "cells": [
  {
   "cell_type": "markdown",
   "metadata": {},
   "source": [
    "# 🧬 **Práctica 05: Algoritmos Genéticos** 🦠\n",
    "\n",
    "----\n",
    "\n",
    "<b>T</b><b>e</b><b>a</b><b>m</b>: <font color='red'><b>S</b></font><b>ocios</b> <font color='blue'><b>I</b></font><b>nteligentemente</b> <font color='green'><b>A</b></font><b>rtificiales</b> (<font color='red'><b>S</b></font>.<font color='blue'><b>I</b></font>.<font color='green'><b>A</b></font>)\n",
    "\n",
    "\n",
    "<font color='red'>🔵</font> Araujo Chávez Mauricio\n",
    "\n",
    "<font color='red'>🔵</font> Bonilla Reyes Dafne\n",
    "\n",
    "<font color='red'>🔵</font> Castañón Maldonado Carlos Emilio\n",
    "\n",
    "<font color='red'>🔵</font> Mares Cruz Tlacaelel Horacio\n",
    "\n",
    "<font color='red'>🔵</font> Navarro Santana Pablo César\n",
    "\n",
    "----\n",
    "\n",
    "<div style=\"text-align: center\"> \n",
    "\n",
    "[![](https://media1.giphy.com/media/v1.Y2lkPTc5MGI3NjExNHJ4amE2cWFrMjN0M2diNjY4eTZ0emVqeHk5czc5enJ3NHRmanAyZSZlcD12MV9pbnRlcm5hbF9naWZfYnlfaWQmY3Q9Zw/0lGElDgkbXFRKXsAro/giphy.gif)](https://www.youtube.com/watch?v=YRvOePz2OqQ)\n",
    "\n",
    "</div>"
   ]
  }
 ],
 "metadata": {
  "language_info": {
   "name": "python"
  }
 },
 "nbformat": 4,
 "nbformat_minor": 2
}
