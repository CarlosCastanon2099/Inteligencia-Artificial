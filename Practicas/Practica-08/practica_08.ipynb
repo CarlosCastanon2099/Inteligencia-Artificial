{
 "cells": [
  {
   "cell_type": "markdown",
   "metadata": {},
   "source": [
    "# 🗂️ **Práctica 08: Clasificación de Texto** 📎\n",
    "----\n",
    "\n",
    "## <b>T</b><b>e</b><b>a</b><b>m</b>: <font color='red'><b>S</b></font><b>ocios</b> <font color='blue'><b>I</b></font><b>nteligentemente</b> <font color='green'><b>A</b></font><b>rtificiales</b> (<font color='red'><b>S</b></font>.<font color='blue'><b>I</b></font>.<font color='green'><b>A</b></font>)\n",
    "\n",
    "<font color='yellow'>▼</font> **Araujo Chávez Mauricio**\n",
    "\n",
    "<font color='blue'>♥</font> **Bonilla Reyes Dafne**\n",
    "\n",
    "<font color='red'>♦</font> **Castañón Maldonado Carlos Emilio**\n",
    "\n",
    "<span style=\"color:#3498DB\">❖</span> **Clemente Herrera Karla**\n",
    "\n",
    "<font color='purple'>♠</font> **Mares Cruz Tlacaelel Horacio**\n",
    "\n",
    "<font color='green'>♣</font> **Navarro Santana Pablo César**"
   ]
  },
  {
   "cell_type": "code",
   "execution_count": 1,
   "metadata": {},
   "outputs": [],
   "source": [
    "# En caso de no tener instalado lo anterior, instalar con:\n",
    "# !pip install numpy\n",
    "# !pip install matplotlib\n",
    "# !pip install pandas\n",
    "# !pip install seaborn\n",
    "# !pip install -U scikit-learn"
   ]
  },
  {
   "cell_type": "code",
   "execution_count": 1,
   "metadata": {},
   "outputs": [],
   "source": [
    "import numpy as np\n",
    "import matplotlib\n",
    "import matplotlib.pyplot as plt\n",
    "\n",
    "import pandas as pd\n",
    "import seaborn as sns\n",
    "\n",
    "import sklearn as sk\n",
    "from sklearn import *\n",
    "from sklearn.model_selection import train_test_split\n",
    "from sklearn.linear_model import LinearRegression\n",
    "from sklearn.metrics import mean_squared_error\n",
    "from sklearn.metrics import r2_score\n",
    "from sklearn.preprocessing import PolynomialFeatures\n",
    "from sklearn.preprocessing import StandardScaler\n",
    "from sklearn.pipeline import Pipeline\n",
    "from sklearn.metrics import f1_score\n",
    "\n",
    "%matplotlib inline"
   ]
  },
  {
   "cell_type": "markdown",
   "metadata": {},
   "source": [
    "### **Cargamos los datos**"
   ]
  },
  {
   "cell_type": "code",
   "execution_count": 2,
   "metadata": {},
   "outputs": [],
   "source": [
    "path = './data/dataset.csv'"
   ]
  },
  {
   "cell_type": "markdown",
   "metadata": {},
   "source": [
    "### **Leemos los datos del CSV**"
   ]
  },
  {
   "cell_type": "code",
   "execution_count": 3,
   "metadata": {},
   "outputs": [
    {
     "data": {
      "text/html": [
       "<div>\n",
       "<style scoped>\n",
       "    .dataframe tbody tr th:only-of-type {\n",
       "        vertical-align: middle;\n",
       "    }\n",
       "\n",
       "    .dataframe tbody tr th {\n",
       "        vertical-align: top;\n",
       "    }\n",
       "\n",
       "    .dataframe thead th {\n",
       "        text-align: right;\n",
       "    }\n",
       "</style>\n",
       "<table border=\"1\" class=\"dataframe\">\n",
       "  <thead>\n",
       "    <tr style=\"text-align: right;\">\n",
       "      <th></th>\n",
       "      <th>text_type</th>\n",
       "      <th>text</th>\n",
       "    </tr>\n",
       "  </thead>\n",
       "  <tbody>\n",
       "    <tr>\n",
       "      <th>0</th>\n",
       "      <td>spam</td>\n",
       "      <td>naturally irresistible your corporate identity...</td>\n",
       "    </tr>\n",
       "    <tr>\n",
       "      <th>1</th>\n",
       "      <td>spam</td>\n",
       "      <td>the stock trading gunslinger fanny is merrill ...</td>\n",
       "    </tr>\n",
       "    <tr>\n",
       "      <th>2</th>\n",
       "      <td>spam</td>\n",
       "      <td>unbelievable new homes made easy im wanting to...</td>\n",
       "    </tr>\n",
       "    <tr>\n",
       "      <th>3</th>\n",
       "      <td>spam</td>\n",
       "      <td>4 color printing special request additional in...</td>\n",
       "    </tr>\n",
       "    <tr>\n",
       "      <th>4</th>\n",
       "      <td>spam</td>\n",
       "      <td>do not have money get software cds from here s...</td>\n",
       "    </tr>\n",
       "    <tr>\n",
       "      <th>...</th>\n",
       "      <td>...</td>\n",
       "      <td>...</td>\n",
       "    </tr>\n",
       "    <tr>\n",
       "      <th>20343</th>\n",
       "      <td>ham</td>\n",
       "      <td>/ban</td>\n",
       "    </tr>\n",
       "    <tr>\n",
       "      <th>20344</th>\n",
       "      <td>ham</td>\n",
       "      <td>/ban</td>\n",
       "    </tr>\n",
       "    <tr>\n",
       "      <th>20345</th>\n",
       "      <td>ham</td>\n",
       "      <td>/ban</td>\n",
       "    </tr>\n",
       "    <tr>\n",
       "      <th>20346</th>\n",
       "      <td>ham</td>\n",
       "      <td>Kaisi hii</td>\n",
       "    </tr>\n",
       "    <tr>\n",
       "      <th>20347</th>\n",
       "      <td>ham</td>\n",
       "      <td>Shock q</td>\n",
       "    </tr>\n",
       "  </tbody>\n",
       "</table>\n",
       "<p>20348 rows × 2 columns</p>\n",
       "</div>"
      ],
      "text/plain": [
       "      text_type                                               text\n",
       "0          spam  naturally irresistible your corporate identity...\n",
       "1          spam  the stock trading gunslinger fanny is merrill ...\n",
       "2          spam  unbelievable new homes made easy im wanting to...\n",
       "3          spam  4 color printing special request additional in...\n",
       "4          spam  do not have money get software cds from here s...\n",
       "...         ...                                                ...\n",
       "20343       ham                                               /ban\n",
       "20344       ham                                               /ban\n",
       "20345       ham                                               /ban\n",
       "20346       ham                                          Kaisi hii\n",
       "20347       ham                                            Shock q\n",
       "\n",
       "[20348 rows x 2 columns]"
      ]
     },
     "execution_count": 3,
     "metadata": {},
     "output_type": "execute_result"
    }
   ],
   "source": [
    "# Leemos el archivo\n",
    "pd.read_csv(path, encoding='latin-1')"
   ]
  },
  {
   "cell_type": "markdown",
   "metadata": {},
   "source": [
    "### **Creamos un Data Frame del CSV**"
   ]
  },
  {
   "cell_type": "code",
   "execution_count": 4,
   "metadata": {},
   "outputs": [],
   "source": [
    "msjs_DataFrame = pd.read_csv(path, encoding='latin-1')"
   ]
  },
  {
   "cell_type": "markdown",
   "metadata": {},
   "source": [
    "### **Obtenemos los tipos de Datos del CSV**"
   ]
  },
  {
   "cell_type": "code",
   "execution_count": 5,
   "metadata": {},
   "outputs": [
    {
     "data": {
      "text/plain": [
       "text_type    object\n",
       "text         object\n",
       "dtype: object"
      ]
     },
     "execution_count": 5,
     "metadata": {},
     "output_type": "execute_result"
    }
   ],
   "source": [
    "msjs_DataFrame.dtypes"
   ]
  },
  {
   "cell_type": "markdown",
   "metadata": {},
   "source": [
    "### **Visualizamos las columnas del CSV**"
   ]
  },
  {
   "cell_type": "code",
   "execution_count": 6,
   "metadata": {},
   "outputs": [
    {
     "data": {
      "text/plain": [
       "Index(['text_type', 'text'], dtype='object')"
      ]
     },
     "execution_count": 6,
     "metadata": {},
     "output_type": "execute_result"
    }
   ],
   "source": [
    "msjs_DataFrame.columns"
   ]
  },
  {
   "cell_type": "markdown",
   "metadata": {},
   "source": [
    "### **Ejemplo de la obtencion de Datos de alguna de las columnas del CSV**"
   ]
  },
  {
   "cell_type": "code",
   "execution_count": 7,
   "metadata": {},
   "outputs": [
    {
     "data": {
      "text/plain": [
       "array(['spam', 'ham'], dtype=object)"
      ]
     },
     "execution_count": 7,
     "metadata": {},
     "output_type": "execute_result"
    }
   ],
   "source": [
    "# Probamos nuestro ejemplo con la columna 'text_type'\n",
    "pd.unique(msjs_DataFrame['text_type'])"
   ]
  },
  {
   "cell_type": "code",
   "execution_count": 8,
   "metadata": {},
   "outputs": [
    {
     "data": {
      "text/plain": [
       "array(['naturally irresistible your corporate identity lt is really hard to recollect a company the market is full of suqgestions and the information isoverwhelminq but a good catchy logo stylish statlonery and outstanding website will make the task much easier we do not promise that havinq ordered a iogo your company will automaticaily become a world ieader it isguite ciear that without good products effective business organization and practicable aim it will be hotat nowadays market but we do promise that your marketing efforts will become much more effective here is the list of clear benefits creativeness hand made original logos specially done to reflect your distinctive company image convenience logo and stationery are provided in all formats easy to use content',\n",
       "       'the stock trading gunslinger fanny is merrill but muzo not colza attainder and penultimate like esmark perspicuous ramble is segovia not group try slung kansas tanzania yes chameleon or continuant clothesman no libretto is chesapeake but tight not waterway herald and hawthorn like chisel morristown superior is deoxyribonucleic not clockwork try hall incredible mcdougall yes hepburn or einsteinian earmark no sapling is boar but duane not plain palfrey and inflexible like huzzah pepperoni bedtime is nameable not attire try edt chronography optima yes pirogue or diffusion albeit no',\n",
       "       'unbelievable new homes made easy im wanting to show you this homeowner you have been pre approved for a 454 169 home loan at a 3 72 fixed rate this offer is being extended to you unconditionally and your credit is in no way a factor to take advantage of this limited time opportunity all we ask is that you visit our website and complete the 1 minute post approval form look foward to hearing from you dorcas pittman',\n",
       "       ..., '/ban', 'Kaisi hii', 'Shock q'], dtype=object)"
      ]
     },
     "execution_count": 8,
     "metadata": {},
     "output_type": "execute_result"
    }
   ],
   "source": [
    "# Probamos otro ejemplo con la columna 'text'\n",
    "pd.unique(msjs_DataFrame['text'])"
   ]
  },
  {
   "cell_type": "markdown",
   "metadata": {},
   "source": [
    "### **Obtenemos mas informacion con describe**"
   ]
  },
  {
   "cell_type": "code",
   "execution_count": 9,
   "metadata": {},
   "outputs": [
    {
     "data": {
      "text/plain": [
       "count     20348\n",
       "unique        2\n",
       "top         ham\n",
       "freq      14337\n",
       "Name: text_type, dtype: object"
      ]
     },
     "execution_count": 9,
     "metadata": {},
     "output_type": "execute_result"
    }
   ],
   "source": [
    "msjs_DataFrame['text_type'].describe()"
   ]
  },
  {
   "cell_type": "code",
   "execution_count": 10,
   "metadata": {},
   "outputs": [
    {
     "data": {
      "text/plain": [
       "count                                                 20348\n",
       "unique                                                20334\n",
       "top       SPAM ALERT  ð  User:     Username: @DillyBu...\n",
       "freq                                                      8\n",
       "Name: text, dtype: object"
      ]
     },
     "execution_count": 10,
     "metadata": {},
     "output_type": "execute_result"
    }
   ],
   "source": [
    "msjs_DataFrame['text'].describe()"
   ]
  },
  {
   "cell_type": "code",
   "execution_count": 11,
   "metadata": {},
   "outputs": [
    {
     "data": {
      "text/plain": [
       "<Axes: xlabel='text_type'>"
      ]
     },
     "execution_count": 11,
     "metadata": {},
     "output_type": "execute_result"
    },
    {
     "data": {
      "image/png": "[encoded data removed]",
      "text/plain": [
       "<Figure size 640x480 with 1 Axes>"
      ]
     },
     "metadata": {},
     "output_type": "display_data"
    }
   ],
   "source": [
    "'''\n",
    "Utiliza value_counts() para verificar si el dataset está balanceado.\n",
    "Para obtener una mejor visualización del balance, usa además un gráfico de barras\n",
    "para mostrar estos datos.\n",
    "'''\n",
    "\n",
    "msjs_DataFrame['text_type'].value_counts()\n",
    "\n",
    "msjs_DataFrame['text_type'].value_counts().plot(kind='bar')\n"
   ]
  },
  {
   "cell_type": "markdown",
   "metadata": {},
   "source": [
    "### **Tecnicas para resolver el desbalanceo de clases**\n",
    "\n",
    "- **Ajuste de Parámetros del modelo:** Consiste en ajustar parametros ó metricas del propio algoritmo para intentar equilibrar a la clase minoritaria penalizando a la clase mayoritaria durante el entrenamiento. Ejemplos on ajuste de peso en árboles, también en logisticregression tenemos el parámetro class_weight= “balanced” que utilizaremos en este ejemplo. No todos los algoritmos tienen estas posibilidades. En redes neuronales por ejemplo podríamos ajustar la métrica de Loss para que penalice a las clases mayoritarias.\n",
    "\n",
    "- **Modificar el Dataset:** podemos eliminar muestras de la clase mayoritaria para reducirlo e intentar equilibrar la situación. Tiene como “peligroso” que podemos prescindir de muestras importantes, que brindan información y por lo tanto empeorar el modelo. Entonces para seleccionar qué muestras eliminar, deberíamos seguir algún criterio. También podríamos agregar nuevas filas con los mismos valores de las clases minoritarias, por ejemplo cuadriplicar nuestras 492 filas. Pero esto no sirve demasiado y podemos llevar al modelo a caer en overfitting.\n",
    "\n",
    "- **Muestras artificiales:** podemos intentar crear muestras sintéticas (no idénticas) utilizando diversos algoritmos que intentan seguir la tendencia del grupo minoritario. Según el método, podemos mejorar los resultados. Lo peligroso de crear muestras sintéticas es que podemos alterar la distribución “natural” de esa clase y confundir al modelo en su clasificación.\n",
    "\n",
    "- **Balanced Ensemble Methods:** Utiliza las ventajas de hacer ensamble de métodos, es decir, entrenar diversos modelos y entre todos obtener el resultado final (por ejemplo “votando”) pero se asegura de tomar muestras de entrenamiento equilibradas.\n",
    "\n",
    "**Fuente:** https://www.aprendemachinelearning.com/clasificacion-con-datos-desbalanceados/"
   ]
  },
  {
   "cell_type": "markdown",
   "metadata": {},
   "source": [
    "### **Preparación de datos**\n"
   ]
  },
  {
   "cell_type": "code",
   "execution_count": null,
   "metadata": {},
   "outputs": [],
   "source": [
    "'''\n",
    "- Limpia los datos eliminando caracteres especiales.\n",
    "- Limpia los datos convirtiendo los textos a minúsculas para uniformidad.\n",
    "- Divide los textos en tokens individuales con \n",
    "- Elimina stopwords (palabras comunes que no aportan mucho significado\n",
    "al texto).\n",
    "\n",
    "- Convierte los textos limpios en vectores numéricos utilizando CountVec-\n",
    "torizer o TfidfVectorizer.\n",
    "\n",
    "- Utiliza train_test_split para dividir el conjunto de datos en dos: \n",
    "un conjunto de entrenamiento (80%) y un conjunto de prueba (20%).\n",
    "'''\n",
    "\n",
    "import re\n",
    "import nltk\n",
    "from nltk.corpus import stopwords\n",
    "from sklearn.feature_extraction.text import CountVectorizer\n",
    "from sklearn.feature_extraction.text import TfidfVectorizer\n",
    "\n",
    "nltk.download('stopwords')\n",
    "stop_words = set(stopwords.words('english'))\n",
    "\n",
    "'''\n",
    "def clean_text(text):\n",
    "    text = text.lower()\n",
    "    text = re.sub(r'[^a-z0-9\\s]', '', text)\n",
    "    text = text.split()\n",
    "    text = [word for word in text if not word in stop_words]\n",
    "    text = ' '.join(text)\n",
    "    return text\n",
    "'''\n",
    "\n",
    "def clean_text(text):\n",
    "    if not text:\n",
    "        return ''\n",
    "    \n",
    "    # Remover caracteres no ASCII\n",
    "    text = ''.join([char if ord(char) < 128 else ' ' for char in text])\n",
    "\n",
    "    # Remover caracteres especiales y convertir a minúsculas\n",
    "    text = re.sub(r'[^a-z\\s$]', '', text.lower())\n",
    "    \n",
    "    # Remover espacios adicionales\n",
    "    text = re.sub(r'\\s+', ' ', text).strip()\n",
    "\n",
    "    # Remover stopwords\n",
    "    text = ' '.join([word for word in text.split() if word not in stop_words])\n",
    "\n",
    "    # Removemos cualquier caracter no alfabetico\n",
    "    text = re.sub(r'[^a-z\\s]', '', text)\n",
    "\n",
    "    return text\n",
    "\n",
    "msjs_DataFrame['text'] = msjs_DataFrame['text'].apply(clean_text)\n",
    "\n",
    "msjs_DataFrame['text']\n",
    "\n",
    "X = msjs_DataFrame['text']\n",
    "y = msjs_DataFrame['text_type']\n",
    "\n",
    "# Utiliza train_test_split para dividir el conjunto de datos en dos: \n",
    "# un conjunto de entrenamiento (80%) y un conjunto de prueba (20%).\n",
    "X_train, X_test, y_train, y_test = train_test_split(X, y, test_size=0.2, random_state=42)\n",
    "\n",
    "vectorizer = CountVectorizer()\n",
    "\n",
    "X_train = vectorizer.fit_transform(X_train)\n",
    "X_test = vectorizer.transform(X_test)\n"
   ]
  },
  {
   "cell_type": "markdown",
   "metadata": {},
   "source": [
    "### **Creación del modelo de Regresión Logística y Ejecución**"
   ]
  },
  {
   "cell_type": "code",
   "execution_count": 13,
   "metadata": {},
   "outputs": [
    {
     "data": {
      "image/png": "[encoded data removed]",
      "text/plain": [
       "<Figure size 640x480 with 1 Axes>"
      ]
     },
     "metadata": {},
     "output_type": "display_data"
    }
   ],
   "source": [
    "sig = lambda x: 1./(1.+np.exp(-x))\n",
    "x = np.linspace(-10, 10, 100)\n",
    "plt.plot(x, sig(x), label='Sigmoide', color='cyan')\n",
    "plt.title('Funcion Sigmoide \\n $\\sigma (x) = \\\\frac{1}{1+e^{-x}}$')\n",
    "plt.xlabel('x')\n",
    "plt.ylabel('$\\sigma (x)$')\n",
    "plt.legend()\n",
    "\n",
    "# Ahora dibujamos una linea roja en x=0\n",
    "plt.axvline(x=0, color='red', linestyle='--')\n",
    "plt.show()"
   ]
  },
  {
   "cell_type": "code",
   "execution_count": 16,
   "metadata": {},
   "outputs": [
    {
     "name": "stdout",
     "output_type": "stream",
     "text": [
      "Predicciones:  [0 0 0 ... 1 0 1]\n",
      "Valores reales:  [0 0 0 ... 1 0 1]\n",
      "F1 Score:  0.927549143241514\n",
      "Coeficientes:  [[-0.12480488 -0.11926114 -0.00406662 ...  0.33315339 -0.00147424\n",
      "  -0.05726096]]\n",
      "Intercepto:  [-1.61627947]\n",
      "Matriz de confusion: \n",
      "[[2829   61]\n",
      " [ 227  953]]\n",
      "Precision:  0.9292383292383293\n"
     ]
    },
    {
     "data": {
      "image/png": "[encoded data removed]",
      "text/plain": [
       "<Figure size 640x480 with 2 Axes>"
      ]
     },
     "metadata": {},
     "output_type": "display_data"
    },
    {
     "data": {
      "text/plain": [
       "(array([[2829,   61],\n",
       "        [ 227,  953]], dtype=int64),\n",
       " 0.9292383292383293)"
      ]
     },
     "execution_count": 16,
     "metadata": {},
     "output_type": "execute_result"
    }
   ],
   "source": [
    "# import matplotlib.pyplot as plt\n",
    "# Configurar la fuente\n",
    "# plt.rcParams['font.family'] = 'DejaVu Sans'\n",
    "\n",
    "def read_data(path):\n",
    "    '''\n",
    "    Funcion para leer los datos, obtener su formato correcto y dividirlos en entrenamiento y prueba.\n",
    "    '''\n",
    "    # Leemos el archivo\n",
    "    data = pd.read_csv(path, encoding='latin-1')\n",
    "    \n",
    "    # Normalizamos los datos\n",
    "    # data = (data - data.mean()) / data.std()\n",
    "\n",
    "    # Eliminamos las filas que tangan valores nulos\n",
    "    data = data.dropna()\n",
    "\n",
    "    # Dividimos los datos en entrenamiento y prueba\n",
    "    # train_data, test_data = train_test_split(data, test_size=0.2)\n",
    "    train_data, test_data = train_test_split(data, test_size=0.2) \n",
    "    return train_data, test_data\n",
    "\n",
    "\n",
    "def train_model(train_data, epochs):\n",
    "    X = train_data['text']\n",
    "    X = vectorizer.transform(X)\n",
    "    y = train_data['text_type']\n",
    "    # Definimos el umbral de la sigmoide en y\n",
    "    if y.dtype == 'object':\n",
    "        y = np.where(y == 'spam', 1, 0)\n",
    "    y = np.array(y)\n",
    "\n",
    "    model = sk.linear_model.LogisticRegression(max_iter=epochs)\n",
    "    model.fit(X, y)\n",
    "\n",
    "\n",
    "    return model\n",
    "\n",
    "\n",
    "\n",
    "\n",
    "def evaluate_model(model, test_data):\n",
    "    '''\n",
    "    Funcion para evaluar el modelo de regresion logistica.\n",
    "    '''\n",
    "    # Definimos la variable independiente\n",
    "    X = test_data['text']\n",
    "    X = vectorizer.transform(X)\n",
    "\n",
    "    # Definimos la variable dependiente\n",
    "    y = test_data['text_type']\n",
    "\n",
    "\n",
    "    # Definimos el umbral de la sigmoide en y\n",
    "    if y.dtype == 'object':\n",
    "        y = np.where(y == 'spam', 1, 0)\n",
    "\n",
    "    y = np.array(y)\n",
    "\n",
    "    \n",
    "    y_pred = model.predict(X)\n",
    "    # Revisamos las predicciones y comparamoslas con los valores reales\n",
    "    print('Predicciones: ', y_pred)\n",
    "    print('Valores reales: ', y)\n",
    "\n",
    "    print('F1 Score: ', f1_score(y, y_pred, average='weighted'))\n",
    "\n",
    "    return y_pred, y\n",
    "\n",
    "'''\n",
    "def plot_data(train_data, test_data):\n",
    "    \n",
    "    # Funcion para graficar los datos.\n",
    "    \n",
    "    # Graficamos los datos de entrenamiento\n",
    "    plt.scatter(train_data['text_type'], train_data['text'], label='Entrenamiento', color='blue')\n",
    "\n",
    "\n",
    "    # Graficamos los datos de prueba\n",
    "    plt.scatter(test_data['text_type'], test_data['text'], label='Prueba', color='red')\n",
    "\n",
    "\n",
    "    plt.xlabel('text_type')\n",
    "    plt.ylabel('text')\n",
    "    plt.legend()\n",
    "    plt.show()\n",
    "'''\n",
    "\n",
    "def confusion_Matrix(y_pred, y):\n",
    "    '''\n",
    "    Funcion para calcular la matriz de confusion.\n",
    "    '''\n",
    "    # Calculamos la matriz de confusion\n",
    "    cm = sk.metrics.confusion_matrix(y, y_pred)\n",
    "    print('Matriz de confusion: ')\n",
    "    print(cm)\n",
    "\n",
    "    # Calculamos la precision del modelo\n",
    "    accuracy = sk.metrics.accuracy_score(y, y_pred)\n",
    "    print('Precision: ', accuracy)\n",
    "\n",
    "    # Calculamos la matriz de confusion y la graficamos\n",
    "    #cm = sk.metrics.confusion_matrix(y, y_pred)\n",
    "    #plt.figure(figsize=(5, 5))\n",
    "    sns.set_theme(font_scale=1, palette='viridis', style='whitegrid'  )\n",
    "    sns.heatmap(cm, annot=True ,cmap='viridis')\n",
    "    plt.xlabel('Predicciones')\n",
    "    plt.ylabel('Valores reales')\n",
    "    plt.show()\n",
    "\n",
    "    return cm, accuracy\n",
    "\n",
    "train_data, test_data = read_data('./data/dataset.csv')\n",
    "model = train_model(train_data, 1000)\n",
    "\n",
    "y_pred, y = evaluate_model(model, test_data)\n",
    "\n",
    "# Revisamos los coeficientes de las variables\n",
    "print('Coeficientes: ', model.coef_)\n",
    "print('Intercepto: ', model.intercept_)\n",
    "\n",
    "\n",
    "\n",
    "# plot_data(train_data, test_data)\n",
    "\n",
    "confusion_Matrix(y_pred, y)\n"
   ]
  },
  {
   "cell_type": "markdown",
   "metadata": {},
   "source": [
    "### **Creación del modelo de Support Vector Machine (SVC) y Ejecución**"
   ]
  },
  {
   "cell_type": "code",
   "execution_count": null,
   "metadata": {},
   "outputs": [],
   "source": [
    "# TODO"
   ]
  },
  {
   "cell_type": "markdown",
   "metadata": {},
   "source": [
    "### **Creación del modelo de Decision Tree Classifier (Decision Tree) y Ejecución**"
   ]
  },
  {
   "cell_type": "code",
   "execution_count": null,
   "metadata": {},
   "outputs": [],
   "source": [
    "# TODO"
   ]
  },
  {
   "cell_type": "markdown",
   "metadata": {},
   "source": [
    "### **Creación del modelo de Random Forest Classifier (Random Forest) y Ejecución**"
   ]
  },
  {
   "cell_type": "code",
   "execution_count": null,
   "metadata": {},
   "outputs": [],
   "source": [
    "# TODO"
   ]
  }
 ],
 "metadata": {
  "kernelspec": {
   "display_name": "base",
   "language": "python",
   "name": "python3"
  },
  "language_info": {
   "codemirror_mode": {
    "name": "ipython",
    "version": 3
   },
   "file_extension": ".py",
   "mimetype": "text/x-python",
   "name": "python",
   "nbconvert_exporter": "python",
   "pygments_lexer": "ipython3",
   "version": "3.11.7"
  }
 },
 "nbformat": 4,
 "nbformat_minor": 2
}
